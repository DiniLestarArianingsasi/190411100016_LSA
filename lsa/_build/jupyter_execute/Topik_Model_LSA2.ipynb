{
 "cells": [
  {
   "cell_type": "markdown",
   "id": "625a8c8c",
   "metadata": {},
   "source": [
    "# WEB CRAWLING"
   ]
  },
  {
   "cell_type": "markdown",
   "id": "02ea94be",
   "metadata": {},
   "source": [
    "Web crawling merupakan salah satu teknik  dalam mengumpulkan suatu data yang digunakan untuk mengindekskan suatu informasi yang ada pada halaman menggunakan URL (Uniform Resource Locator) disertai dengan API (Application Programming Interface) dalam melakukan penambangan dataset dengan jumlah yang besar. "
   ]
  },
  {
   "cell_type": "markdown",
   "id": "54800eab",
   "metadata": {},
   "source": [
    "Adapun library yang memiliki fungsi untuk membantu proses crawling data yang ada di webstie yakni Scrapy. Berikut ini merupakan cara install library Scrapy"
   ]
  },
  {
   "cell_type": "code",
   "execution_count": 1,
   "id": "0277092c",
   "metadata": {},
   "outputs": [
    {
     "name": "stdout",
     "output_type": "stream",
     "text": [
      "Requirement already satisfied: scrapy in c:\\users\\asus\\appdata\\local\\programs\\python\\python38\\lib\\site-packages (2.6.1)\n",
      "Requirement already satisfied: cryptography>=2.0 in c:\\users\\asus\\appdata\\local\\programs\\python\\python38\\lib\\site-packages (from scrapy) (36.0.1)\n",
      "Requirement already satisfied: parsel>=1.5.0 in c:\\users\\asus\\appdata\\local\\programs\\python\\python38\\lib\\site-packages (from scrapy) (1.6.0)\n",
      "Requirement already satisfied: w3lib>=1.17.0 in c:\\users\\asus\\appdata\\local\\programs\\python\\python38\\lib\\site-packages (from scrapy) (1.22.0)\n",
      "Requirement already satisfied: setuptools in c:\\users\\asus\\appdata\\local\\programs\\python\\python38\\lib\\site-packages (from scrapy) (41.2.0)\n",
      "Requirement already satisfied: service-identity>=16.0.0 in c:\\users\\asus\\appdata\\local\\programs\\python\\python38\\lib\\site-packages (from scrapy) (21.1.0)\n",
      "Requirement already satisfied: protego>=0.1.15 in c:\\users\\asus\\appdata\\local\\programs\\python\\python38\\lib\\site-packages (from scrapy) (0.2.1)\n",
      "Requirement already satisfied: tldextract in c:\\users\\asus\\appdata\\local\\programs\\python\\python38\\lib\\site-packages (from scrapy) (3.2.0)\n",
      "Requirement already satisfied: zope.interface>=4.1.3 in c:\\users\\asus\\appdata\\local\\programs\\python\\python38\\lib\\site-packages (from scrapy) (5.4.0)\n",
      "Requirement already satisfied: Twisted>=17.9.0 in c:\\users\\asus\\appdata\\local\\programs\\python\\python38\\lib\\site-packages (from scrapy) (22.2.0)\n",
      "Requirement already satisfied: queuelib>=1.4.2 in c:\\users\\asus\\appdata\\local\\programs\\python\\python38\\lib\\site-packages (from scrapy) (1.6.2)\n",
      "Requirement already satisfied: cssselect>=0.9.1 in c:\\users\\asus\\appdata\\local\\programs\\python\\python38\\lib\\site-packages (from scrapy) (1.1.0)\n",
      "Requirement already satisfied: lxml>=3.5.0 in c:\\users\\asus\\appdata\\local\\programs\\python\\python38\\lib\\site-packages (from scrapy) (4.8.0)\n",
      "Requirement already satisfied: itemadapter>=0.1.0 in c:\\users\\asus\\appdata\\local\\programs\\python\\python38\\lib\\site-packages (from scrapy) (0.4.0)\n",
      "Requirement already satisfied: itemloaders>=1.0.1 in c:\\users\\asus\\appdata\\local\\programs\\python\\python38\\lib\\site-packages (from scrapy) (1.0.4)\n",
      "Requirement already satisfied: PyDispatcher>=2.0.5 in c:\\users\\asus\\appdata\\local\\programs\\python\\python38\\lib\\site-packages (from scrapy) (2.0.5)\n",
      "Requirement already satisfied: pyOpenSSL>=16.2.0 in c:\\users\\asus\\appdata\\local\\programs\\python\\python38\\lib\\site-packages (from scrapy) (22.0.0)\n",
      "Requirement already satisfied: cffi>=1.12 in c:\\users\\asus\\appdata\\local\\programs\\python\\python38\\lib\\site-packages (from cryptography>=2.0->scrapy) (1.15.0)\n",
      "Requirement already satisfied: jmespath>=0.9.5 in c:\\users\\asus\\appdata\\local\\programs\\python\\python38\\lib\\site-packages (from itemloaders>=1.0.1->scrapy) (0.10.0)\n",
      "Requirement already satisfied: six>=1.6.0 in c:\\users\\asus\\appdata\\roaming\\python\\python38\\site-packages (from parsel>=1.5.0->scrapy) (1.15.0)\n",
      "Requirement already satisfied: attrs>=19.1.0 in c:\\users\\asus\\appdata\\local\\programs\\python\\python38\\lib\\site-packages (from service-identity>=16.0.0->scrapy) (21.4.0)\n",
      "Requirement already satisfied: pyasn1-modules in c:\\users\\asus\\appdata\\local\\programs\\python\\python38\\lib\\site-packages (from service-identity>=16.0.0->scrapy) (0.2.8)\n",
      "Requirement already satisfied: pyasn1 in c:\\users\\asus\\appdata\\local\\programs\\python\\python38\\lib\\site-packages (from service-identity>=16.0.0->scrapy) (0.4.8)\n",
      "Requirement already satisfied: constantly>=15.1 in c:\\users\\asus\\appdata\\local\\programs\\python\\python38\\lib\\site-packages (from Twisted>=17.9.0->scrapy) (15.1.0)\n",
      "Requirement already satisfied: incremental>=21.3.0 in c:\\users\\asus\\appdata\\local\\programs\\python\\python38\\lib\\site-packages (from Twisted>=17.9.0->scrapy) (21.3.0)\n",
      "Requirement already satisfied: typing-extensions>=3.6.5 in c:\\users\\asus\\appdata\\local\\programs\\python\\python38\\lib\\site-packages (from Twisted>=17.9.0->scrapy) (4.1.1)\n",
      "Requirement already satisfied: twisted-iocpsupport<2,>=1.0.2 in c:\\users\\asus\\appdata\\local\\programs\\python\\python38\\lib\\site-packages (from Twisted>=17.9.0->scrapy) (1.0.2)\n",
      "Requirement already satisfied: Automat>=0.8.0 in c:\\users\\asus\\appdata\\local\\programs\\python\\python38\\lib\\site-packages (from Twisted>=17.9.0->scrapy) (20.2.0)\n",
      "Requirement already satisfied: hyperlink>=17.1.1 in c:\\users\\asus\\appdata\\local\\programs\\python\\python38\\lib\\site-packages (from Twisted>=17.9.0->scrapy) (21.0.0)\n",
      "Requirement already satisfied: filelock>=3.0.8 in c:\\users\\asus\\appdata\\local\\programs\\python\\python38\\lib\\site-packages (from tldextract->scrapy) (3.6.0)\n",
      "Requirement already satisfied: idna in c:\\users\\asus\\appdata\\local\\programs\\python\\python38\\lib\\site-packages (from tldextract->scrapy) (3.3)\n",
      "Requirement already satisfied: requests>=2.1.0 in c:\\users\\asus\\appdata\\local\\programs\\python\\python38\\lib\\site-packages (from tldextract->scrapy) (2.27.1)\n",
      "Requirement already satisfied: requests-file>=1.4 in c:\\users\\asus\\appdata\\local\\programs\\python\\python38\\lib\\site-packages (from tldextract->scrapy) (1.5.1)\n",
      "Requirement already satisfied: pycparser in c:\\users\\asus\\appdata\\local\\programs\\python\\python38\\lib\\site-packages (from cffi>=1.12->cryptography>=2.0->scrapy) (2.21)\n",
      "Requirement already satisfied: charset-normalizer~=2.0.0 in c:\\users\\asus\\appdata\\local\\programs\\python\\python38\\lib\\site-packages (from requests>=2.1.0->tldextract->scrapy) (2.0.12)\n",
      "Requirement already satisfied: urllib3<1.27,>=1.21.1 in c:\\users\\asus\\appdata\\local\\programs\\python\\python38\\lib\\site-packages (from requests>=2.1.0->tldextract->scrapy) (1.26.8)\n",
      "Requirement already satisfied: certifi>=2017.4.17 in c:\\users\\asus\\appdata\\local\\programs\\python\\python38\\lib\\site-packages (from requests>=2.1.0->tldextract->scrapy) (2021.10.8)\n",
      "Note: you may need to restart the kernel to use updated packages.\n"
     ]
    }
   ],
   "source": [
    "pip install scrapy"
   ]
  },
  {
   "cell_type": "markdown",
   "id": "51acfdcd",
   "metadata": {},
   "source": [
    "# Import Library"
   ]
  },
  {
   "cell_type": "markdown",
   "id": "545aa14a",
   "metadata": {},
   "source": [
    "Setelah berhasil menginstall Scrapy, dapat dilakukan proses crawling data yang ada pada webstie. Pertama dengan mengimportkan library Scrapy yang telah diinstall"
   ]
  },
  {
   "cell_type": "code",
   "execution_count": 2,
   "id": "38ba9a67",
   "metadata": {},
   "outputs": [],
   "source": [
    "import scrapy\n",
    "from scrapy.crawler import CrawlerProcess"
   ]
  },
  {
   "cell_type": "markdown",
   "id": "7db6232a",
   "metadata": {},
   "source": [
    "Setelah mengimportkan beberapa library yang akan digunakan dalam proses crawling. Selanjutnya buat sebuah class, dalam class tersebut berisikan nama dari website yang akan dicrawling disini yakni website \"Sindonews\" dengan keyword \"teknologi\" dan ditambahkan urlnya. Tidak lupa mensetting format dari file yang akan tersimpan untuk formatnya yakni .csv \n",
    "Tentukan atribut yang akan di crawl yakni judul, tanggal, kategori, dan deskripsi."
   ]
  },
  {
   "cell_type": "code",
   "execution_count": 3,
   "id": "a72767d8",
   "metadata": {},
   "outputs": [
    {
     "name": "stderr",
     "output_type": "stream",
     "text": [
      "2022-06-15 15:36:34 [scrapy.utils.log] INFO: Scrapy 2.6.1 started (bot: scrapybot)\n"
     ]
    },
    {
     "name": "stderr",
     "output_type": "stream",
     "text": [
      "2022-06-15 15:36:34 [scrapy.utils.log] INFO: Versions: lxml 4.8.0.0, libxml2 2.9.12, cssselect 1.1.0, parsel 1.6.0, w3lib 1.22.0, Twisted 22.2.0, Python 3.8.2 (tags/v3.8.2:7b3ab59, Feb 25 2020, 23:03:10) [MSC v.1916 64 bit (AMD64)], pyOpenSSL 22.0.0 (OpenSSL 1.1.1m  14 Dec 2021), cryptography 36.0.1, Platform Windows-10-10.0.17763-SP0\n"
     ]
    },
    {
     "name": "stderr",
     "output_type": "stream",
     "text": [
      "2022-06-15 15:36:34 [scrapy.crawler] INFO: Overridden settings:\n",
      "{}\n"
     ]
    },
    {
     "name": "stderr",
     "output_type": "stream",
     "text": [
      "2022-06-15 15:36:34 [scrapy.utils.log] DEBUG: Using reactor: twisted.internet.selectreactor.SelectReactor\n"
     ]
    },
    {
     "name": "stderr",
     "output_type": "stream",
     "text": [
      "2022-06-15 15:36:35 [scrapy.extensions.telnet] INFO: Telnet Password: d1ff2120dac8390d\n"
     ]
    },
    {
     "name": "stderr",
     "output_type": "stream",
     "text": [
      "2022-06-15 15:36:35 [py.warnings] WARNING: C:\\Users\\ASUS\\AppData\\Local\\Programs\\Python\\Python38\\lib\\site-packages\\scrapy\\extensions\\feedexport.py:289: ScrapyDeprecationWarning: The `FEED_URI` and `FEED_FORMAT` settings have been deprecated in favor of the `FEEDS` setting. Please see the `FEEDS` setting docs for more details\n",
      "  exporter = cls(crawler)\n",
      "\n"
     ]
    },
    {
     "name": "stderr",
     "output_type": "stream",
     "text": [
      "2022-06-15 15:36:35 [scrapy.middleware] INFO: Enabled extensions:\n",
      "['scrapy.extensions.corestats.CoreStats',\n",
      " 'scrapy.extensions.telnet.TelnetConsole',\n",
      " 'scrapy.extensions.feedexport.FeedExporter',\n",
      " 'scrapy.extensions.logstats.LogStats']\n"
     ]
    },
    {
     "name": "stderr",
     "output_type": "stream",
     "text": [
      "2022-06-15 15:36:36 [scrapy.middleware] INFO: Enabled downloader middlewares:\n",
      "['scrapy.downloadermiddlewares.httpauth.HttpAuthMiddleware',\n",
      " 'scrapy.downloadermiddlewares.downloadtimeout.DownloadTimeoutMiddleware',\n",
      " 'scrapy.downloadermiddlewares.defaultheaders.DefaultHeadersMiddleware',\n",
      " 'scrapy.downloadermiddlewares.useragent.UserAgentMiddleware',\n",
      " 'scrapy.downloadermiddlewares.retry.RetryMiddleware',\n",
      " 'scrapy.downloadermiddlewares.redirect.MetaRefreshMiddleware',\n",
      " 'scrapy.downloadermiddlewares.httpcompression.HttpCompressionMiddleware',\n",
      " 'scrapy.downloadermiddlewares.redirect.RedirectMiddleware',\n",
      " 'scrapy.downloadermiddlewares.cookies.CookiesMiddleware',\n",
      " 'scrapy.downloadermiddlewares.httpproxy.HttpProxyMiddleware',\n",
      " 'scrapy.downloadermiddlewares.stats.DownloaderStats']\n"
     ]
    },
    {
     "name": "stderr",
     "output_type": "stream",
     "text": [
      "2022-06-15 15:36:36 [scrapy.middleware] INFO: Enabled spider middlewares:\n",
      "['scrapy.spidermiddlewares.httperror.HttpErrorMiddleware',\n",
      " 'scrapy.spidermiddlewares.offsite.OffsiteMiddleware',\n",
      " 'scrapy.spidermiddlewares.referer.RefererMiddleware',\n",
      " 'scrapy.spidermiddlewares.urllength.UrlLengthMiddleware',\n",
      " 'scrapy.spidermiddlewares.depth.DepthMiddleware']\n"
     ]
    },
    {
     "name": "stderr",
     "output_type": "stream",
     "text": [
      "2022-06-15 15:36:36 [scrapy.middleware] INFO: Enabled item pipelines:\n",
      "[]\n"
     ]
    },
    {
     "name": "stderr",
     "output_type": "stream",
     "text": [
      "2022-06-15 15:36:36 [scrapy.core.engine] INFO: Spider opened\n"
     ]
    },
    {
     "name": "stderr",
     "output_type": "stream",
     "text": [
      "2022-06-15 15:36:37 [scrapy.extensions.logstats] INFO: Crawled 0 pages (at 0 pages/min), scraped 0 items (at 0 items/min)\n"
     ]
    },
    {
     "name": "stderr",
     "output_type": "stream",
     "text": [
      "2022-06-15 15:36:37 [scrapy.extensions.telnet] INFO: Telnet console listening on 127.0.0.1:6023\n"
     ]
    },
    {
     "name": "stderr",
     "output_type": "stream",
     "text": [
      "2022-06-15 15:36:38 [scrapy.downloadermiddlewares.redirect] DEBUG: Redirecting (301) to <GET https://tekno.sindonews.com/> from <GET https://tekno.sindonews.com/teknologi>\n"
     ]
    },
    {
     "name": "stderr",
     "output_type": "stream",
     "text": [
      "2022-06-15 15:36:39 [filelock] DEBUG: Attempting to acquire lock 2390149500992 on C:\\Users\\ASUS\\AppData\\Local\\Programs\\Python\\Python38\\lib\\site-packages\\tldextract\\.suffix_cache/publicsuffix.org-tlds\\de84b5ca2167d4c83e38fb162f2e8738.tldextract.json.lock\n"
     ]
    },
    {
     "name": "stderr",
     "output_type": "stream",
     "text": [
      "2022-06-15 15:36:39 [filelock] DEBUG: Lock 2390149500992 acquired on C:\\Users\\ASUS\\AppData\\Local\\Programs\\Python\\Python38\\lib\\site-packages\\tldextract\\.suffix_cache/publicsuffix.org-tlds\\de84b5ca2167d4c83e38fb162f2e8738.tldextract.json.lock\n"
     ]
    },
    {
     "name": "stderr",
     "output_type": "stream",
     "text": [
      "2022-06-15 15:36:39 [filelock] DEBUG: Attempting to acquire lock 2390149579344 on C:\\Users\\ASUS\\AppData\\Local\\Programs\\Python\\Python38\\lib\\site-packages\\tldextract\\.suffix_cache/urls\\62bf135d1c2f3d4db4228b9ecaf507a2.tldextract.json.lock\n"
     ]
    },
    {
     "name": "stderr",
     "output_type": "stream",
     "text": [
      "2022-06-15 15:36:39 [filelock] DEBUG: Lock 2390149579344 acquired on C:\\Users\\ASUS\\AppData\\Local\\Programs\\Python\\Python38\\lib\\site-packages\\tldextract\\.suffix_cache/urls\\62bf135d1c2f3d4db4228b9ecaf507a2.tldextract.json.lock\n"
     ]
    },
    {
     "name": "stderr",
     "output_type": "stream",
     "text": [
      "2022-06-15 15:36:39 [filelock] DEBUG: Attempting to release lock 2390149579344 on C:\\Users\\ASUS\\AppData\\Local\\Programs\\Python\\Python38\\lib\\site-packages\\tldextract\\.suffix_cache/urls\\62bf135d1c2f3d4db4228b9ecaf507a2.tldextract.json.lock\n"
     ]
    },
    {
     "name": "stderr",
     "output_type": "stream",
     "text": [
      "2022-06-15 15:36:39 [filelock] DEBUG: Lock 2390149579344 released on C:\\Users\\ASUS\\AppData\\Local\\Programs\\Python\\Python38\\lib\\site-packages\\tldextract\\.suffix_cache/urls\\62bf135d1c2f3d4db4228b9ecaf507a2.tldextract.json.lock\n"
     ]
    },
    {
     "name": "stderr",
     "output_type": "stream",
     "text": [
      "2022-06-15 15:36:40 [filelock] DEBUG: Attempting to release lock 2390149500992 on C:\\Users\\ASUS\\AppData\\Local\\Programs\\Python\\Python38\\lib\\site-packages\\tldextract\\.suffix_cache/publicsuffix.org-tlds\\de84b5ca2167d4c83e38fb162f2e8738.tldextract.json.lock\n"
     ]
    },
    {
     "name": "stderr",
     "output_type": "stream",
     "text": [
      "2022-06-15 15:36:40 [filelock] DEBUG: Lock 2390149500992 released on C:\\Users\\ASUS\\AppData\\Local\\Programs\\Python\\Python38\\lib\\site-packages\\tldextract\\.suffix_cache/publicsuffix.org-tlds\\de84b5ca2167d4c83e38fb162f2e8738.tldextract.json.lock\n"
     ]
    },
    {
     "name": "stderr",
     "output_type": "stream",
     "text": [
      "2022-06-15 15:36:40 [scrapy.core.engine] DEBUG: Crawled (200) <GET https://tekno.sindonews.com/> (referer: None)\n"
     ]
    },
    {
     "name": "stderr",
     "output_type": "stream",
     "text": [
      "2022-06-15 15:36:40 [scrapy.core.scraper] DEBUG: Scraped from <200 https://tekno.sindonews.com/>\r\n",
      "{'judul': 'Saham Snap Anjlok Parah hingga 74% di 2022, Ini Penyebabnya', 'tanggal': 'Rabu, 15 Juni 2022 - 15:00 WIB', 'kategori': 'TELCO', 'deskripsi': 'Saham Snap anjlok parah selama 2022. Bayangkan, pada September 2021 saham Snap diperdagangkan setinggi USD83,11 per lembar. Sekarang, turun 74,5 persen, merosot ke angka USD12 menjelang penutupan pasar di New York.'}\n"
     ]
    },
    {
     "name": "stderr",
     "output_type": "stream",
     "text": [
      "2022-06-15 15:36:40 [scrapy.core.scraper] DEBUG: Scraped from <200 https://tekno.sindonews.com/>\r\n",
      "{'judul': 'Internet Explorer Disuntik Mati Hari Ini, Komputer dan Laptop Lama Jadi Korban', 'tanggal': 'Rabu, 15 Juni 2022 - 10:54 WIB', 'kategori': 'TELCO', 'deskripsi': 'Microsoft mulai menyuntik mati web browser lawas mereka, Internet Explorer per 15 Juni ini. Dampaknya akan terasa pada komputer dan laptop lama yang ada di perkantoran.'}\n"
     ]
    },
    {
     "name": "stderr",
     "output_type": "stream",
     "text": [
      "2022-06-15 15:36:40 [scrapy.core.scraper] DEBUG: Scraped from <200 https://tekno.sindonews.com/>\r\n",
      "{'judul': 'Kode Redeem FF Free Fire, Rabu 15 Juni 2022, Klaim Segera Agar yang Lain Cemburu', 'tanggal': 'Rabu, 15 Juni 2022 - 08:00 WIB', 'kategori': 'GAMES', 'deskripsi': 'Kode Redeem FF Free Fire, Rabu 15 Juni 2022 telah tersedia. Segera klaim segera agar yang lain cemburu karena tidak dapat hadiah eksklusif.'}\n"
     ]
    },
    {
     "name": "stderr",
     "output_type": "stream",
     "text": [
      "2022-06-15 15:36:40 [scrapy.core.scraper] DEBUG: Scraped from <200 https://tekno.sindonews.com/>\r\n",
      "{'judul': 'Partai Perindo: Mars Partai Perindo dengan QR Code', 'tanggal': None, 'kategori': 'sponsored', 'deskripsi': 'Lahir dari semangat untuk mengembalikan cita-cita kemerdekaan, Partai Perindo hadir untuk membangun Indonesia menjadi negara bersatu, berdaulat, adil dan makmur berlandaskan Pancasila.'}\n"
     ]
    },
    {
     "name": "stderr",
     "output_type": "stream",
     "text": [
      "2022-06-15 15:36:40 [scrapy.core.scraper] DEBUG: Scraped from <200 https://tekno.sindonews.com/>\r\n",
      "{'judul': '8 Antivirus Terbaik 2022 yang Bisa Tangkis Serangan Siber', 'tanggal': 'Selasa, 14 Juni 2022 - 22:53 WIB', 'kategori': 'TELCO', 'deskripsi': 'Seiring dengan kemajuan teknologi, ancaman serangan siber juga semakin meningkat. Salah satu yang paling sering adalah phishing sebagai metode untuk mencuri data atau informasi pengguna.'}\n"
     ]
    },
    {
     "name": "stderr",
     "output_type": "stream",
     "text": [
      "2022-06-15 15:36:40 [scrapy.core.scraper] DEBUG: Scraped from <200 https://tekno.sindonews.com/>\r\n",
      "{'judul': '2 Cara Screenshot di MacBook, Ternyata Mudah dan Cepat!', 'tanggal': 'Selasa, 14 Juni 2022 - 18:16 WIB', 'kategori': 'ELEKTRONIK', 'deskripsi': 'Cara screenshot di MacBook penting diketahui oleh pengguna ekosistem Apple. Sebab, melakukan tangkapan layar di MacBook dan PC sangat berbeda.'}\n"
     ]
    },
    {
     "name": "stderr",
     "output_type": "stream",
     "text": [
      "2022-06-15 15:36:40 [scrapy.core.scraper] DEBUG: Scraped from <200 https://tekno.sindonews.com/>\r\n",
      "{'judul': 'Cara Restart HP Xiaomi Tanpa Tombol Power', 'tanggal': 'Selasa, 14 Juni 2022 - 18:00 WIB', 'kategori': 'GADGET', 'deskripsi': 'Cara restart HP Xiaomi tanpa tombol power bisa dilakukan dengan cukup mudah. Bahkan, ada beberapa cara untuk melakukannya.'}\n"
     ]
    },
    {
     "name": "stderr",
     "output_type": "stream",
     "text": [
      "2022-06-15 15:36:40 [scrapy.core.scraper] DEBUG: Scraped from <200 https://tekno.sindonews.com/>\r\n",
      "{'judul': 'Begini Cara Menyembunyikan Foto dan Video di Hp Samsung, Mudah dan Praktis', 'tanggal': 'Selasa, 14 Juni 2022 - 17:45 WIB', 'kategori': 'GADGET', 'deskripsi': 'Sedikitnya ada dua cara menyembunyikan foto dan video di hp Samsung dengan mudah. Dengan menyimak ulasan ini, pengguna ponsel Samsung tidak perlu bingung lagi dalam menyembunyikan file berupa foto dan video di galeri.'}\n"
     ]
    },
    {
     "name": "stderr",
     "output_type": "stream",
     "text": [
      "2022-06-15 15:36:40 [scrapy.core.scraper] DEBUG: Scraped from <200 https://tekno.sindonews.com/>\r\n",
      "{'judul': 'Migrasi ke TV Digital, Samsung Tawarkan Super Smart TV+ Mulai Rp6,5 Juta', 'tanggal': 'Selasa, 14 Juni 2022 - 17:00 WIB', 'kategori': 'ELEKTRONIK', 'deskripsi': 'Super Smart TV+ jadi upaya Samsung untuk memberikan opsi smart TV dengan harga kompetitif bagi konsumen yang akan beralih dari TV analog ke digital.'}\n"
     ]
    },
    {
     "name": "stderr",
     "output_type": "stream",
     "text": [
      "2022-06-15 15:36:40 [scrapy.core.scraper] DEBUG: Scraped from <200 https://tekno.sindonews.com/>\r\n",
      "{'judul': 'Didukung Ericsson, Indosat Ooredoo Hutchison Hadirkan Pengalaman 5G Kelas Dunia di Formula E', 'tanggal': 'Selasa, 14 Juni 2022 - 16:58 WIB', 'kategori': 'SPONSORED', 'deskripsi': 'Keberhasilan ajang Formula E di Jakarta tak lepas dari kenyamanan dan kelancaran sarana dan prasarana pendukung.Termasuk pengalaman 5G berkelas dunia yang dihadirkan oleh Indosat Ooredoo Hutchison (IOH) yang didukung Ericsson.'}\n"
     ]
    },
    {
     "name": "stderr",
     "output_type": "stream",
     "text": [
      "2022-06-15 15:36:40 [scrapy.core.scraper] DEBUG: Scraped from <200 https://tekno.sindonews.com/>\r\n",
      "{'judul': 'Plus Minus Headphone Bone Conduction Dibandingkan True Wireless Stereo', 'tanggal': 'Selasa, 14 Juni 2022 - 16:05 WIB', 'kategori': 'ELEKTRONIK', 'deskripsi': 'Bone conduction headphone belakangan semakin diminati. Ini adalah jenis headphone baru dengan teknologi canggih. Sebab, tidak menggunakan speaker atau driver untuk memproduksi suara.'}\n"
     ]
    },
    {
     "name": "stderr",
     "output_type": "stream",
     "text": [
      "2022-06-15 15:36:40 [scrapy.core.scraper] DEBUG: Scraped from <200 https://tekno.sindonews.com/>\r\n",
      "{'judul': 'Harga dan Fitur Shokz, Headphone dengan Teknologi Bone Conduction', 'tanggal': 'Selasa, 14 Juni 2022 - 14:48 WIB', 'kategori': 'ELEKTRONIK', 'deskripsi': 'Erajaya Active Lifestyle mengenalkan 4 model headphone dengan teknologi bone conduction milik Shokz (dulunya AfterShokz) di jaringan ritel Erajaya Group.'}\n"
     ]
    },
    {
     "name": "stderr",
     "output_type": "stream",
     "text": [
      "2022-06-15 15:36:40 [scrapy.core.scraper] DEBUG: Scraped from <200 https://tekno.sindonews.com/>\r\n",
      "{'judul': 'Cara Melihat Terakhir Dilihat WhatsApp yang Disembunyikan', 'tanggal': 'Selasa, 14 Juni 2022 - 13:40 WIB', 'kategori': 'TELCO', 'deskripsi': 'Cara melihat terakhir dilihat WhatsApp yang disembunyikan bisa dilakukan dengan menggunakan aplikasi tambahan'}\n"
     ]
    },
    {
     "name": "stderr",
     "output_type": "stream",
     "text": [
      "2022-06-15 15:36:40 [scrapy.core.scraper] DEBUG: Scraped from <200 https://tekno.sindonews.com/>\r\n",
      "{'judul': 'Dinilai Sangat Membantu, Google Translate Mampu Terjemahkan 133 Bahasa', 'tanggal': 'Selasa, 14 Juni 2022 - 12:54 WIB', 'kategori': 'TELCO', 'deskripsi': 'Google telah mengembangkan berbagai alat yang luas untuk mendorong komunikasi yang lebih baik di seluruh dunia.'}\n"
     ]
    },
    {
     "name": "stderr",
     "output_type": "stream",
     "text": [
      "2022-06-15 15:36:40 [scrapy.core.scraper] DEBUG: Scraped from <200 https://tekno.sindonews.com/>\r\n",
      "{'judul': '7 Fitur TourBox Neo, Tombol Pintas untuk Desainer Hingga Editor Video', 'tanggal': 'Selasa, 14 Juni 2022 - 12:42 WIB', 'kategori': 'ELEKTRONIK', 'deskripsi': 'TourBox Neo adalah perangkat yang memiliki fungsi spesifik. Yakni, membantu para pekerja kreatif. Khususnya di bidang desain grafis, fotografi, video, musik hingga multimedia.'}\n"
     ]
    },
    {
     "name": "stderr",
     "output_type": "stream",
     "text": [
      "2022-06-15 15:36:40 [scrapy.core.scraper] DEBUG: Scraped from <200 https://tekno.sindonews.com/>\r\n",
      "{'judul': 'Cara Mengatasi WhastApp Kena Sadap Tanpa Harus Ganti Akun', 'tanggal': 'Selasa, 14 Juni 2022 - 12:38 WIB', 'kategori': 'TELCO', 'deskripsi': 'Cara mengatasi WhastApp kena sadap agar data-data Anda terjaga dengan aman dari serangan siber belakangan ini memang sedang marak.'}\n"
     ]
    },
    {
     "name": "stderr",
     "output_type": "stream",
     "text": [
      "2022-06-15 15:36:40 [scrapy.core.scraper] DEBUG: Scraped from <200 https://tekno.sindonews.com/>\r\n",
      "{'judul': 'Kode Redeem FF Free Fire Selasa 14 Juni 2022, Mood Booster Hari Ini!', 'tanggal': 'Selasa, 14 Juni 2022 - 09:11 WIB', 'kategori': 'GAMES', 'deskripsi': 'Kode Redeem FF Free Fire, Selasa 14 Juni 2022, lebih menarik karena pemain bisa mendapat banyak sekali item gratis yang bisa digunakan.'}\n"
     ]
    },
    {
     "name": "stderr",
     "output_type": "stream",
     "text": [
      "2022-06-15 15:36:40 [scrapy.core.scraper] DEBUG: Scraped from <200 https://tekno.sindonews.com/>\r\n",
      "{'judul': 'Cara Mengatasi HP Xiaomi Fastboot, Cukup Lakukan 2 Langkah Ini!', 'tanggal': 'Senin, 13 Juni 2022 - 21:56 WIB', 'kategori': 'GADGET', 'deskripsi': 'Cara mengatasi HP Xiaomi fastboot penting diketahui oleh Mi Fans atau pengguna ponsel Xiaomi. Tentu saja, ketika sewaktu-waktu mengalami fastboot mereka tidak kebingungan.'}\n"
     ]
    },
    {
     "name": "stderr",
     "output_type": "stream",
     "text": [
      "2022-06-15 15:36:40 [scrapy.core.scraper] DEBUG: Scraped from <200 https://tekno.sindonews.com/>\r\n",
      "{'judul': 'Tayang di Bioskop, Film Pendek Seperti Sediakala Direkam dengan Galaxy S22 Ultra 5G', 'tanggal': 'Senin, 13 Juni 2022 - 19:53 WIB', 'kategori': 'GADGET', 'deskripsi': 'Film pendek Seperti Sediakala menjadi bagian dari tren unjuk gigi kemampuan kamera smartphone untuk membuat film sekelas layar lebar. Dalam hal ini, ponsel yang dipakai adalah Samsung Galaxy S22 Ultra 5G.'}\n"
     ]
    },
    {
     "name": "stderr",
     "output_type": "stream",
     "text": [
      "2022-06-15 15:36:40 [scrapy.core.scraper] DEBUG: Scraped from <200 https://tekno.sindonews.com/>\r\n",
      "{'judul': 'Cara Menyembunyikan Aplikasi di HP Xiaomi, Mudah Kok!', 'tanggal': 'Senin, 13 Juni 2022 - 18:40 WIB', 'kategori': 'GADGET', 'deskripsi': 'Cara menyembunyikan aplikasi di HP Xiaomi sebenarnya cukup mudah. Bahkan, bisa dilakukan tanpa perlu memasang aplikasi dari pihak ketiga.'}\n"
     ]
    },
    {
     "name": "stderr",
     "output_type": "stream",
     "text": [
      "2022-06-15 15:36:40 [scrapy.core.scraper] DEBUG: Scraped from <200 https://tekno.sindonews.com/>\r\n",
      "{'judul': 'Inilah Perbedaan WA GB dan WhatsApp Resmi serta Bahayanya', 'tanggal': 'Senin, 13 Juni 2022 - 16:59 WIB', 'kategori': 'GADGET', 'deskripsi': 'Perbedaan WA GB dan WhatsApp resmi serta bahayanya ini perlu diketahui. Selain untuk menambah informasi juga untuk mencegah bahaya yang akan terjadi saat menggunakannya. Sebab bisa saja pengguna mengalami kebocoran data'}\n"
     ]
    },
    {
     "name": "stderr",
     "output_type": "stream",
     "text": [
      "2022-06-15 15:36:40 [scrapy.core.engine] INFO: Closing spider (finished)\n"
     ]
    },
    {
     "name": "stderr",
     "output_type": "stream",
     "text": [
      "2022-06-15 15:36:40 [scrapy.extensions.feedexport] INFO: Stored csv feed (21 items) in: berita3.csv\n"
     ]
    },
    {
     "name": "stderr",
     "output_type": "stream",
     "text": [
      "2022-06-15 15:36:40 [scrapy.statscollectors] INFO: Dumping Scrapy stats:\n",
      "{'downloader/request_bytes': 447,\n",
      " 'downloader/request_count': 2,\n",
      " 'downloader/request_method_count/GET': 2,\n",
      " 'downloader/response_bytes': 24961,\n",
      " 'downloader/response_count': 2,\n",
      " 'downloader/response_status_count/200': 1,\n",
      " 'downloader/response_status_count/301': 1,\n",
      " 'elapsed_time_seconds': 2.963691,\n",
      " 'feedexport/success_count/FileFeedStorage': 1,\n",
      " 'finish_reason': 'finished',\n",
      " 'finish_time': datetime.datetime(2022, 6, 15, 8, 36, 40, 223361),\n",
      " 'httpcompression/response_bytes': 110789,\n",
      " 'httpcompression/response_count': 1,\n",
      " 'item_scraped_count': 21,\n",
      " 'log_count/DEBUG': 32,\n",
      " 'log_count/INFO': 11,\n",
      " 'log_count/WARNING': 1,\n",
      " 'response_received_count': 1,\n",
      " 'scheduler/dequeued': 2,\n",
      " 'scheduler/dequeued/memory': 2,\n",
      " 'scheduler/enqueued': 2,\n",
      " 'scheduler/enqueued/memory': 2,\n",
      " 'start_time': datetime.datetime(2022, 6, 15, 8, 36, 37, 259670)}\n"
     ]
    },
    {
     "name": "stderr",
     "output_type": "stream",
     "text": [
      "2022-06-15 15:36:40 [scrapy.core.engine] INFO: Spider closed (finished)\n"
     ]
    }
   ],
   "source": [
    "class SpiderWeb(scrapy.Spider):\n",
    "    name = \"sindonews\"\n",
    "    keyword = 'teknologi'\n",
    "    start_urls = [\n",
    "        'https://tekno.sindonews.com/'+keyword\n",
    "        ]\n",
    "    custom_settings = {\n",
    "        'FEED_FORMAT': 'csv',\n",
    "        'FEED_URI': 'berita3.csv'\n",
    "        }\n",
    "    \n",
    "    def parse(self, response):\n",
    "        for data in response.css('div.desc-news'):\n",
    "            yield {\n",
    "                'judul': data.css('div.title a::text').get(),\n",
    "                'tanggal': data.css('span.date::text').get(),\n",
    "                'kategori': data.css('span.subkanal::text').get(),\n",
    "                'deskripsi': data.css('div.desc::text').get()\n",
    "                }\n",
    "proses = CrawlerProcess()\n",
    "proses.crawl(SpiderWeb)\n",
    "proses.start()"
   ]
  },
  {
   "cell_type": "markdown",
   "id": "2605de8a",
   "metadata": {},
   "source": [
    "Crawling data telah berhasil dilakukan, dengan file yang telah tersimpan dengan nama berita3.csv"
   ]
  },
  {
   "cell_type": "markdown",
   "id": "8cfed34a",
   "metadata": {},
   "source": [
    "# Pre-Processing"
   ]
  },
  {
   "cell_type": "markdown",
   "id": "34fccc34",
   "metadata": {},
   "source": [
    "Dalam proses selanjutnya yakni proses Pre-Processing, dalam proses ini memiliki fungsi untuk memastikan kualitas dari data agar data yang digunakan saat analisis data memiliki hasil yang baik dan memiliki data yang clean."
   ]
  },
  {
   "cell_type": "markdown",
   "id": "358141b1",
   "metadata": {},
   "source": [
    "# Import Library"
   ]
  },
  {
   "cell_type": "markdown",
   "id": "c2aa4347",
   "metadata": {},
   "source": [
    "Adapun juga library yang dibutuhkan dalam proses pre-processing seperti nltk,swifter,Sastrawi dan masih banyak library yang digunakan. Library-librart tersebut diimport. Seperti dapat dilihat seperti berikut ini "
   ]
  },
  {
   "cell_type": "code",
   "execution_count": 4,
   "id": "09e1da5b",
   "metadata": {},
   "outputs": [
    {
     "ename": "KeyboardInterrupt",
     "evalue": "",
     "output_type": "error",
     "traceback": [
      "\u001b[1;31m---------------------------------------------------------------------------\u001b[0m",
      "\u001b[1;31mKeyboardInterrupt\u001b[0m                         Traceback (most recent call last)",
      "Input \u001b[1;32mIn [4]\u001b[0m, in \u001b[0;36m<cell line: 8>\u001b[1;34m()\u001b[0m\n\u001b[0;32m      6\u001b[0m \u001b[38;5;28;01mimport\u001b[39;00m \u001b[38;5;21;01mswifter\u001b[39;00m\n\u001b[0;32m      7\u001b[0m \u001b[38;5;28;01mimport\u001b[39;00m \u001b[38;5;21;01mSastrawi\u001b[39;00m\n\u001b[1;32m----> 8\u001b[0m \u001b[38;5;28;01mimport\u001b[39;00m \u001b[38;5;21;01mnetworkx\u001b[39;00m \u001b[38;5;28;01mas\u001b[39;00m \u001b[38;5;21;01mnx\u001b[39;00m\n\u001b[0;32m     10\u001b[0m \u001b[38;5;28;01mfrom\u001b[39;00m \u001b[38;5;21;01mnltk\u001b[39;00m\u001b[38;5;21;01m.\u001b[39;00m\u001b[38;5;21;01mtokenize\u001b[39;00m \u001b[38;5;28;01mimport\u001b[39;00m word_tokenize\n\u001b[0;32m     11\u001b[0m \u001b[38;5;28;01mfrom\u001b[39;00m \u001b[38;5;21;01mnltk\u001b[39;00m\u001b[38;5;21;01m.\u001b[39;00m\u001b[38;5;21;01mtokenize\u001b[39;00m\u001b[38;5;21;01m.\u001b[39;00m\u001b[38;5;21;01mpunkt\u001b[39;00m \u001b[38;5;28;01mimport\u001b[39;00m PunktSentenceTokenizer\n",
      "File \u001b[1;32m~\\AppData\\Local\\Programs\\Python\\Python38\\lib\\site-packages\\networkx\\__init__.py:79\u001b[0m, in \u001b[0;36m<module>\u001b[1;34m\u001b[0m\n\u001b[0;32m     76\u001b[0m \u001b[38;5;28;01mfrom\u001b[39;00m \u001b[38;5;21;01mnetworkx\u001b[39;00m\u001b[38;5;21;01m.\u001b[39;00m\u001b[38;5;21;01mreadwrite\u001b[39;00m \u001b[38;5;28;01mimport\u001b[39;00m \u001b[38;5;241m*\u001b[39m\n\u001b[0;32m     78\u001b[0m \u001b[38;5;66;03m# Need to test with SciPy, when available\u001b[39;00m\n\u001b[1;32m---> 79\u001b[0m \u001b[38;5;28;01mfrom\u001b[39;00m \u001b[38;5;21;01mnetworkx\u001b[39;00m \u001b[38;5;28;01mimport\u001b[39;00m algorithms\n\u001b[0;32m     80\u001b[0m \u001b[38;5;28;01mfrom\u001b[39;00m \u001b[38;5;21;01mnetworkx\u001b[39;00m\u001b[38;5;21;01m.\u001b[39;00m\u001b[38;5;21;01malgorithms\u001b[39;00m \u001b[38;5;28;01mimport\u001b[39;00m \u001b[38;5;241m*\u001b[39m\n\u001b[0;32m     82\u001b[0m \u001b[38;5;28;01mfrom\u001b[39;00m \u001b[38;5;21;01mnetworkx\u001b[39;00m \u001b[38;5;28;01mimport\u001b[39;00m linalg\n",
      "File \u001b[1;32m<frozen importlib._bootstrap>:991\u001b[0m, in \u001b[0;36m_find_and_load\u001b[1;34m(name, import_)\u001b[0m\n",
      "File \u001b[1;32m<frozen importlib._bootstrap>:975\u001b[0m, in \u001b[0;36m_find_and_load_unlocked\u001b[1;34m(name, import_)\u001b[0m\n",
      "File \u001b[1;32m<frozen importlib._bootstrap>:671\u001b[0m, in \u001b[0;36m_load_unlocked\u001b[1;34m(spec)\u001b[0m\n",
      "File \u001b[1;32m<frozen importlib._bootstrap_external>:779\u001b[0m, in \u001b[0;36mexec_module\u001b[1;34m(self, module)\u001b[0m\n",
      "File \u001b[1;32m<frozen importlib._bootstrap_external>:874\u001b[0m, in \u001b[0;36mget_code\u001b[1;34m(self, fullname)\u001b[0m\n",
      "File \u001b[1;32m<frozen importlib._bootstrap_external>:972\u001b[0m, in \u001b[0;36mget_data\u001b[1;34m(self, path)\u001b[0m\n",
      "\u001b[1;31mKeyboardInterrupt\u001b[0m: "
     ]
    }
   ],
   "source": [
    "import pandas as pd\n",
    "import numpy as np\n",
    "import string\n",
    "import re #regrex libray\n",
    "import nltk\n",
    "import swifter\n",
    "import Sastrawi\n",
    "import networkx as nx\n",
    "\n",
    "from nltk.tokenize import word_tokenize\n",
    "from nltk.tokenize.punkt import PunktSentenceTokenizer\n",
    "from nltk.corpus import stopwords\n",
    "from Sastrawi.Stemmer.StemmerFactory import StemmerFactory\n",
    "from nltk.probability import FreqDist\n",
    "from sklearn.feature_extraction.text import TfidfTransformer, CountVectorizer"
   ]
  },
  {
   "cell_type": "markdown",
   "id": "936e81bd",
   "metadata": {},
   "source": [
    "# Load Dataset"
   ]
  },
  {
   "cell_type": "markdown",
   "id": "ec779095",
   "metadata": {},
   "source": [
    "Proses berikutnya yakni membuat dan menload dataset.Dalam dataset ini dibuat dengan nama \"data_berita\" kemudian tambahkan file hasil crawling dengan nama file berikut ini \"berita3.csv\" "
   ]
  },
  {
   "cell_type": "code",
   "execution_count": 5,
   "id": "72b0e723",
   "metadata": {},
   "outputs": [],
   "source": [
    "data_berita = pd.read_csv('berita3.csv')"
   ]
  },
  {
   "cell_type": "markdown",
   "id": "5912b895",
   "metadata": {},
   "source": [
    "Lalu, tampilkan datasetnya dengan .head() data terata akan ditampilkan"
   ]
  },
  {
   "cell_type": "code",
   "execution_count": 6,
   "id": "20327432",
   "metadata": {
    "scrolled": true
   },
   "outputs": [
    {
     "data": {
      "text/html": [
       "<div>\n",
       "<style scoped>\n",
       "    .dataframe tbody tr th:only-of-type {\n",
       "        vertical-align: middle;\n",
       "    }\n",
       "\n",
       "    .dataframe tbody tr th {\n",
       "        vertical-align: top;\n",
       "    }\n",
       "\n",
       "    .dataframe thead th {\n",
       "        text-align: right;\n",
       "    }\n",
       "</style>\n",
       "<table border=\"1\" class=\"dataframe\">\n",
       "  <thead>\n",
       "    <tr style=\"text-align: right;\">\n",
       "      <th></th>\n",
       "      <th>judul</th>\n",
       "      <th>tanggal</th>\n",
       "      <th>kategori</th>\n",
       "      <th>deskripsi</th>\n",
       "    </tr>\n",
       "  </thead>\n",
       "  <tbody>\n",
       "    <tr>\n",
       "      <th>0</th>\n",
       "      <td>2 Cara Screenshot di MacBook, Ternyata Mudah d...</td>\n",
       "      <td>Selasa, 14 Juni 2022 - 18:16 WIB</td>\n",
       "      <td>ELEKTRONIK</td>\n",
       "      <td>Cara screenshot di MacBook penting diketahui o...</td>\n",
       "    </tr>\n",
       "    <tr>\n",
       "      <th>1</th>\n",
       "      <td>Cara Restart HP Xiaomi Tanpa Tombol Power</td>\n",
       "      <td>Selasa, 14 Juni 2022 - 18:00 WIB</td>\n",
       "      <td>GADGET</td>\n",
       "      <td>Cara restart HP Xiaomi tanpa tombol power bisa...</td>\n",
       "    </tr>\n",
       "    <tr>\n",
       "      <th>2</th>\n",
       "      <td>Begini Cara Menyembunyikan Foto dan Video di H...</td>\n",
       "      <td>Selasa, 14 Juni 2022 - 17:45 WIB</td>\n",
       "      <td>GADGET</td>\n",
       "      <td>Sedikitnya ada dua cara menyembunyikan foto da...</td>\n",
       "    </tr>\n",
       "    <tr>\n",
       "      <th>3</th>\n",
       "      <td>Partai Perindo: Mars Partai Perindo dengan QR ...</td>\n",
       "      <td>NaN</td>\n",
       "      <td>sponsored</td>\n",
       "      <td>Lahir dari semangat untuk mengembalikan cita-c...</td>\n",
       "    </tr>\n",
       "    <tr>\n",
       "      <th>4</th>\n",
       "      <td>Migrasi ke TV Digital, Samsung Tawarkan Super ...</td>\n",
       "      <td>Selasa, 14 Juni 2022 - 17:00 WIB</td>\n",
       "      <td>ELEKTRONIK</td>\n",
       "      <td>Super Smart TV+ jadi upaya Samsung untuk membe...</td>\n",
       "    </tr>\n",
       "  </tbody>\n",
       "</table>\n",
       "</div>"
      ],
      "text/plain": [
       "                                               judul  \\\n",
       "0  2 Cara Screenshot di MacBook, Ternyata Mudah d...   \n",
       "1          Cara Restart HP Xiaomi Tanpa Tombol Power   \n",
       "2  Begini Cara Menyembunyikan Foto dan Video di H...   \n",
       "3  Partai Perindo: Mars Partai Perindo dengan QR ...   \n",
       "4  Migrasi ke TV Digital, Samsung Tawarkan Super ...   \n",
       "\n",
       "                            tanggal    kategori  \\\n",
       "0  Selasa, 14 Juni 2022 - 18:16 WIB  ELEKTRONIK   \n",
       "1  Selasa, 14 Juni 2022 - 18:00 WIB      GADGET   \n",
       "2  Selasa, 14 Juni 2022 - 17:45 WIB      GADGET   \n",
       "3                               NaN   sponsored   \n",
       "4  Selasa, 14 Juni 2022 - 17:00 WIB  ELEKTRONIK   \n",
       "\n",
       "                                           deskripsi  \n",
       "0  Cara screenshot di MacBook penting diketahui o...  \n",
       "1  Cara restart HP Xiaomi tanpa tombol power bisa...  \n",
       "2  Sedikitnya ada dua cara menyembunyikan foto da...  \n",
       "3  Lahir dari semangat untuk mengembalikan cita-c...  \n",
       "4  Super Smart TV+ jadi upaya Samsung untuk membe...  "
      ]
     },
     "execution_count": 6,
     "metadata": {},
     "output_type": "execute_result"
    }
   ],
   "source": [
    "data_berita.head()"
   ]
  },
  {
   "cell_type": "markdown",
   "id": "1209c94a",
   "metadata": {},
   "source": [
    "# Case Folding"
   ]
  },
  {
   "cell_type": "markdown",
   "id": "9cf14bf1",
   "metadata": {},
   "source": [
    "Case folding adalag proses pre-processing yang memiliki fungsi untuk menyeragamkan karakter pada data yang ada. Proses Case Folding merupakan proses dalam mengubah huruf kecil. Pada karakter \"A-Z\" menjadi \"a-z\""
   ]
  },
  {
   "cell_type": "code",
   "execution_count": 50,
   "id": "054c1356",
   "metadata": {},
   "outputs": [
    {
     "name": "stdout",
     "output_type": "stream",
     "text": [
      "Case Folding Result : \n",
      "\n",
      "0     cara screenshot di macbook penting diketahui o...\n",
      "1     cara restart hp xiaomi tanpa tombol power bisa...\n",
      "2     sedikitnya ada dua cara menyembunyikan foto da...\n",
      "3     lahir dari semangat untuk mengembalikan citaci...\n",
      "4     super smart tv jadi upaya samsung untuk member...\n",
      "5     keberhasilan ajang formula di jakarta tak lepa...\n",
      "6     bone conduction headphone belakangan semakin d...\n",
      "7     erajaya active lifestyle mengenalkan model hea...\n",
      "8     cara melihat terakhir dilihat whatsapp yang di...\n",
      "9     google telah mengembangkan berbagai alat yang ...\n",
      "10    tourbox neo adalah perangkat yang memiliki fun...\n",
      "11    cara mengatasi whastapp kena sadap agar datada...\n",
      "12    kode redeem ff free fire selasa juni lebih men...\n",
      "13    cara mengatasi hp xiaomi fastboot penting dike...\n",
      "14    film pendek seperti sediakala menjadi bagian d...\n",
      "15    cara menyembunyikan aplikasi di hp xiaomi sebe...\n",
      "16    perbedaan wa gb dan whatsapp resmi serta bahay...\n",
      "17    perusahaan induk tiktok bytedance makin serius...\n",
      "18    sedikitnya ada dua cara membuat whatsapp centa...\n",
      "19    pandemi yang sudah berlangsung lebih dari dua ...\n",
      "Name: deskripsi, dtype: object\n",
      "\n",
      "\n",
      "\n",
      "\n"
     ]
    }
   ],
   "source": [
    "# ------ Case Folding --------\n",
    "# gunakan fungsi Series.str.lower() pada Pandas\n",
    "data_berita['deskripsi'] = data_berita['deskripsi'].str.lower()\n",
    "\n",
    "\n",
    "print('Case Folding Result : \\n')\n",
    "print(data_berita['deskripsi'].head(20))\n",
    "print('\\n\\n\\n')"
   ]
  },
  {
   "cell_type": "markdown",
   "id": "d91f8134",
   "metadata": {},
   "source": [
    "Digunakan fungsi series.str.lower() yang terdapat pandas. Atribut yang dilakukan proses case folding yakni \"Deskripsi\""
   ]
  },
  {
   "cell_type": "markdown",
   "id": "9e458951",
   "metadata": {},
   "source": [
    "# Tokenizing"
   ]
  },
  {
   "cell_type": "markdown",
   "id": "447aa213",
   "metadata": {},
   "source": [
    "Tokenizing merupakan tahap pemotongan string yang berdasarkan kata-kata yang menyusunkan atau memcahkan kalimat menjadi sebuah kata. "
   ]
  },
  {
   "cell_type": "markdown",
   "id": "33b19e12",
   "metadata": {},
   "source": [
    "Dalam tahap tokenizing yang pertama import string dan juga mengimport library re. Dan juga diperlukan library yang digunakan untuk memproses tokenize yakni nltk.tokenize dan nltk.probability"
   ]
  },
  {
   "cell_type": "code",
   "execution_count": 51,
   "id": "d6e1def2",
   "metadata": {},
   "outputs": [],
   "source": [
    "import string \n",
    "import re #regex library\n",
    "\n",
    "# import word_tokenize & FreqDist from NLTK\n",
    "from nltk.tokenize import word_tokenize \n",
    "from nltk.probability import FreqDist"
   ]
  },
  {
   "cell_type": "markdown",
   "id": "1e4c6341",
   "metadata": {},
   "source": [
    "Adapun proses yang dilakukan yakni :\n",
    "1. remove_tweet_special\n",
    "2. remove_number\n",
    "3. remove_punctuation\n",
    "4. remove_whitespace_LT\n",
    "5. remove_whitespace_multiple\n",
    "6. remove_singl_char\n",
    "7. word_tokenize_wrapper"
   ]
  },
  {
   "cell_type": "code",
   "execution_count": 52,
   "id": "029b6d84",
   "metadata": {},
   "outputs": [
    {
     "name": "stdout",
     "output_type": "stream",
     "text": [
      "Tokenizing Result : \n",
      "\n",
      "0     [cara, screenshot, di, macbook, penting, diket...\n",
      "1     [cara, restart, hp, xiaomi, tanpa, tombol, pow...\n",
      "2     [sedikitnya, ada, dua, cara, menyembunyikan, f...\n",
      "3     [lahir, dari, semangat, untuk, mengembalikan, ...\n",
      "4     [super, smart, tv, jadi, upaya, samsung, untuk...\n",
      "5     [keberhasilan, ajang, formula, di, jakarta, ta...\n",
      "6     [bone, conduction, headphone, belakangan, sema...\n",
      "7     [erajaya, active, lifestyle, mengenalkan, mode...\n",
      "8     [cara, melihat, terakhir, dilihat, whatsapp, y...\n",
      "9     [google, telah, mengembangkan, berbagai, alat,...\n",
      "10    [tourbox, neo, adalah, perangkat, yang, memili...\n",
      "11    [cara, mengatasi, whastapp, kena, sadap, agar,...\n",
      "12    [kode, redeem, ff, free, fire, selasa, juni, l...\n",
      "13    [cara, mengatasi, hp, xiaomi, fastboot, pentin...\n",
      "14    [film, pendek, seperti, sediakala, menjadi, ba...\n",
      "15    [cara, menyembunyikan, aplikasi, di, hp, xiaom...\n",
      "16    [perbedaan, wa, gb, dan, whatsapp, resmi, sert...\n",
      "17    [perusahaan, induk, tiktok, bytedance, makin, ...\n",
      "18    [sedikitnya, ada, dua, cara, membuat, whatsapp...\n",
      "19    [pandemi, yang, sudah, berlangsung, lebih, dar...\n",
      "Name: deskripsi_tokens, dtype: object\n",
      "\n",
      "\n",
      "\n",
      "\n"
     ]
    }
   ],
   "source": [
    "def remove_tweet_special(text):\n",
    "    # remove tab, new line, ans back slice\n",
    "    text = text.replace('\\\\t',\" \").replace('\\\\n',\" \").replace('\\\\u',\" \").replace('\\\\',\"\")\n",
    "    # remove non ASCII (emoticon, chinese word, .etc)\n",
    "    text = text.encode('ascii', 'replace').decode('ascii')\n",
    "    # remove mention, link, hashtag\n",
    "    text = ' '.join(re.sub(\"([@#][A-Za-z0-9]+)|(\\w+:\\/\\/\\S+)\",\" \", text).split())\n",
    "    # remove incomplete URL\n",
    "    return text.replace(\"http://\", \" \").replace(\"https://\", \" \")\n",
    "                \n",
    "data_berita['deskripsi'] = data_berita['deskripsi'].apply(remove_tweet_special)\n",
    "\n",
    "#remove number\n",
    "def remove_number(text):\n",
    "    return re.sub(r\"\\d+\", \"\", text)\n",
    "\n",
    "data_berita['deskripsi'] = data_berita['deskripsi'].apply(remove_number)\n",
    "\n",
    "#remove punctuation\n",
    "def remove_punctuation(text):\n",
    "    return text.translate(str.maketrans(\"\",\"\",string.punctuation))\n",
    "\n",
    "data_berita['deskripsi'] = data_berita['deskripsi'].apply(remove_punctuation)\n",
    "\n",
    "#remove whitespace leading & trailing\n",
    "def remove_whitespace_LT(text):\n",
    "    return text.strip()\n",
    "\n",
    "data_berita['deskripsi'] = data_berita['deskripsi'].apply(remove_whitespace_LT)\n",
    "\n",
    "#remove multiple whitespace into single whitespace\n",
    "def remove_whitespace_multiple(text):\n",
    "    return re.sub('\\s+',' ',text)\n",
    "\n",
    "data_berita['deskripsi'] = data_berita['deskripsi'].apply(remove_whitespace_multiple)\n",
    "\n",
    "# remove single char\n",
    "def remove_singl_char(text):\n",
    "    return re.sub(r\"\\b[a-zA-Z]\\b\", \"\", text)\n",
    "\n",
    "data_berita['deskripsi'] = data_berita['deskripsi'].apply(remove_singl_char)\n",
    "\n",
    "# NLTK word rokenize \n",
    "def word_tokenize_wrapper(text):\n",
    "    return word_tokenize(text)\n",
    "\n",
    "data_berita['deskripsi_tokens'] = data_berita['deskripsi'].apply(word_tokenize_wrapper)\n",
    "\n",
    "print('Tokenizing Result : \\n') \n",
    "print(data_berita['deskripsi_tokens'].head(20))\n",
    "print('\\n\\n\\n')"
   ]
  },
  {
   "cell_type": "markdown",
   "id": "08d60aa7",
   "metadata": {},
   "source": [
    "# Menghitung Frekuensi Distribusi Token"
   ]
  },
  {
   "cell_type": "code",
   "execution_count": 53,
   "id": "26f5ad2d",
   "metadata": {},
   "outputs": [
    {
     "name": "stdout",
     "output_type": "stream",
     "text": [
      "Frequency Tokens : \n",
      "\n",
      "0     [(di, 2), (macbook, 2), (cara, 1), (screenshot...\n",
      "1     [(cara, 2), (restart, 1), (hp, 1), (xiaomi, 1)...\n",
      "2     [(menyembunyikan, 2), (foto, 2), (dan, 2), (vi...\n",
      "3     [(untuk, 2), (lahir, 1), (dari, 1), (semangat,...\n",
      "4     [(tv, 3), (smart, 2), (super, 1), (jadi, 1), (...\n",
      "5     [(dan, 2), (yang, 2), (keberhasilan, 1), (ajan...\n",
      "6     [(headphone, 2), (bone, 1), (conduction, 1), (...\n",
      "7     [(erajaya, 2), (active, 1), (lifestyle, 1), (m...\n",
      "8     [(cara, 1), (melihat, 1), (terakhir, 1), (dili...\n",
      "9     [(yang, 2), (google, 1), (telah, 1), (mengemba...\n",
      "10    [(tourbox, 1), (neo, 1), (adalah, 1), (perangk...\n",
      "11    [(cara, 1), (mengatasi, 1), (whastapp, 1), (ke...\n",
      "12    [(bisa, 2), (kode, 1), (redeem, 1), (ff, 1), (...\n",
      "13    [(xiaomi, 2), (fastboot, 2), (cara, 1), (menga...\n",
      "14    [(film, 2), (pendek, 1), (seperti, 1), (sediak...\n",
      "15    [(aplikasi, 2), (cara, 1), (menyembunyikan, 1)...\n",
      "16    [(untuk, 2), (perbedaan, 1), (wa, 1), (gb, 1),...\n",
      "17    [(perusahaan, 1), (induk, 1), (tiktok, 1), (by...\n",
      "18    [(sedikitnya, 1), (ada, 1), (dua, 1), (cara, 1...\n",
      "19    [(pandemi, 1), (yang, 1), (sudah, 1), (berlang...\n",
      "Name: deskripsi_tokens_fdist, dtype: object\n"
     ]
    }
   ],
   "source": [
    "# NLTK calc frequency distribution\n",
    "def freqDist_wrapper(text):\n",
    "    return FreqDist(text)\n",
    "\n",
    "data_berita['deskripsi_tokens_fdist'] = data_berita['deskripsi_tokens'].apply(freqDist_wrapper)\n",
    "\n",
    "print('Frequency Tokens : \\n') \n",
    "print(data_berita['deskripsi_tokens_fdist'].head(20).apply(lambda x : x.most_common()))"
   ]
  },
  {
   "cell_type": "markdown",
   "id": "f8ad87d4",
   "metadata": {},
   "source": [
    "# Filtering (Stopword Removal)"
   ]
  },
  {
   "cell_type": "markdown",
   "id": "2a5b7234",
   "metadata": {},
   "source": [
    "Stopword removal merupakan tahapan mengambil kata-kata yang penting dari hasil token dengan menggunakan algoritma stoplist (membuang kata yang dinilai kurang penting) atau bisa disebit worldlist (menyimpan kata yang penting). Contoh dari stopword dalam bahasa indonesia yakni sepert \"dan\",\"di\",\"dari\" dan masih banyak lainnya."
   ]
  },
  {
   "cell_type": "markdown",
   "id": "36bb90e1",
   "metadata": {},
   "source": [
    "Gunakan library nltk.cotpus dan import stopwords. Seperti dibawah ini"
   ]
  },
  {
   "cell_type": "markdown",
   "id": "5470f1b5",
   "metadata": {},
   "source": [
    "Stopword memiliki additional stopword yang dilist. Jadi ada beberapa kata yang tidak diperlukan dalam data. Kata tersebut dimuat dalam list_stopwords.exted\n",
    "Kemudian dibuat sebuah fungsi dengan nama stopword_removal yang akan membuang kata yang tidak penting di dalam atribut \"deskripsi\""
   ]
  },
  {
   "cell_type": "code",
   "execution_count": 54,
   "id": "9cd7bc88",
   "metadata": {
    "scrolled": true
   },
   "outputs": [
    {
     "name": "stdout",
     "output_type": "stream",
     "text": [
      "0     [screenshot, macbook, pengguna, ekosistem, app...\n",
      "1     [restart, hp, xiaomi, tombol, power, mudah, me...\n",
      "2     [menyembunyikan, foto, video, hp, samsung, mud...\n",
      "3     [lahir, semangat, mengembalikan, citacita, kem...\n",
      "4     [super, smart, tv, upaya, samsung, opsi, smart...\n",
      "5     [keberhasilan, ajang, formula, jakarta, lepas,...\n",
      "6     [bone, conduction, headphone, diminati, jenis,...\n",
      "7     [erajaya, active, lifestyle, mengenalkan, mode...\n",
      "8         [whatsapp, disembunyikan, aplikasi, tambahan]\n",
      "9     [google, mengembangkan, alat, luas, mendorong,...\n",
      "10    [tourbox, neo, perangkat, memiliki, fungsi, sp...\n",
      "11    [mengatasi, whastapp, kena, sadap, datadata, t...\n",
      "12    [kode, redeem, ff, free, fire, selasa, juni, m...\n",
      "13    [mengatasi, hp, xiaomi, fastboot, mi, fans, pe...\n",
      "14    [film, pendek, sediakala, tren, unjuk, gigi, k...\n",
      "15    [menyembunyikan, aplikasi, hp, xiaomi, mudah, ...\n",
      "16    [perbedaan, wa, gb, whatsapp, resmi, bahayanya...\n",
      "17    [perusahaan, induk, tiktok, bytedance, serius,...\n",
      "18    [whatsapp, centang, pesan, dibaca, menjaga, pr...\n",
      "19    [pandemi, mengubah, pola, perilaku, masyarakat...\n",
      "Name: deskripsi_tokens_WSW, dtype: object\n"
     ]
    }
   ],
   "source": [
    "from nltk.corpus import stopwords\n",
    "# ----------------------- get stopword from NLTK stopword -------------------------------\n",
    "# get stopword indonesia\n",
    "list_stopwords = stopwords.words('indonesian')\n",
    "\n",
    "\n",
    "# ---------------------------- manualy add stopword  ------------------------------------\n",
    "# append additional stopword\n",
    "list_stopwords.extend([\"yg\", \"dg\", \"rt\", \"dgn\", \"ny\", \"d\", 'klo', \n",
    "                       'kalo', 'amp', 'biar', 'bikin', 'bilang', \n",
    "                       'gak', 'ga', 'krn', 'nya', 'nih', 'sih', \n",
    "                       'si', 'tau', 'tdk', 'tuh', 'utk', 'ya', \n",
    "                       'jd', 'jgn', 'sdh', 'aja', 'n', 't', \n",
    "                       'nyg', 'hehe', 'pen', 'u', 'nan', 'loh', 'rt',\n",
    "                       '&amp', 'yah'])\n",
    "\n",
    "# ----------------------- add stopword from txt file ------------------------------------\n",
    "# read txt stopword using pandas\n",
    "txt_stopword = pd.read_csv(\"berita3.csv\", names= [\"stopwords\"], header = None)\n",
    "\n",
    "# convert stopword string to list & append additional stopword\n",
    "list_stopwords.extend(txt_stopword[\"stopwords\"][0].split(' '))\n",
    "\n",
    "# ---------------------------------------------------------------------------------------\n",
    "\n",
    "# convert list to dictionary\n",
    "list_stopwords = set(list_stopwords)\n",
    "\n",
    "\n",
    "#remove stopword pada list token\n",
    "def stopwords_removal(words):\n",
    "    return [word for word in words if word not in list_stopwords]\n",
    "\n",
    "data_berita['deskripsi_tokens_WSW'] = data_berita['deskripsi_tokens'].apply(stopwords_removal) \n",
    "\n",
    "\n",
    "print(data_berita['deskripsi_tokens_WSW'].head(20))"
   ]
  },
  {
   "cell_type": "markdown",
   "id": "1c82f597",
   "metadata": {},
   "source": [
    "# Normalization"
   ]
  },
  {
   "cell_type": "markdown",
   "id": "5ab1c836",
   "metadata": {},
   "source": [
    "Normalization merupakan salah satu tahapan yang ada dalam pre-processing. Normalization memiliki fungsi untuk menyamakan nilai yang ada dalam data dalam rentan tertentu."
   ]
  },
  {
   "cell_type": "code",
   "execution_count": 55,
   "id": "b2655f68",
   "metadata": {},
   "outputs": [
    {
     "data": {
      "text/plain": [
       "0     [screenshot, macbook, pengguna, ekosistem, app...\n",
       "1     [restart, hp, xiaomi, tombol, power, mudah, me...\n",
       "2     [menyembunyikan, foto, video, hp, samsung, mud...\n",
       "3     [lahir, semangat, mengembalikan, citacita, kem...\n",
       "4     [super, smart, tv, upaya, samsung, opsi, smart...\n",
       "5     [keberhasilan, ajang, formula, jakarta, lepas,...\n",
       "6     [bone, conduction, headphone, diminati, jenis,...\n",
       "7     [erajaya, active, lifestyle, mengenalkan, mode...\n",
       "8         [whatsapp, disembunyikan, aplikasi, tambahan]\n",
       "9     [google, mengembangkan, alat, luas, mendorong,...\n",
       "10    [tourbox, neo, perangkat, memiliki, fungsi, sp...\n",
       "11    [mengatasi, whastapp, kena, sadap, datadata, t...\n",
       "12    [kode, redeem, ff, free, fire, selasa, juni, m...\n",
       "13    [mengatasi, hp, xiaomi, fastboot, mi, fans, pe...\n",
       "14    [film, pendek, sediakala, tren, unjuk, gigi, k...\n",
       "15    [menyembunyikan, aplikasi, hp, xiaomi, mudah, ...\n",
       "16    [perbedaan, wa, gb, whatsapp, resmi, bahayanya...\n",
       "17    [perusahaan, induk, tiktok, bytedance, serius,...\n",
       "18    [whatsapp, centang, pesan, dibaca, menjaga, pr...\n",
       "19    [pandemi, mengubah, pola, perilaku, masyarakat...\n",
       "Name: deskripsi_normalized, dtype: object"
      ]
     },
     "execution_count": 55,
     "metadata": {},
     "output_type": "execute_result"
    }
   ],
   "source": [
    "normalizad_word = pd.read_csv(\"berita3.csv\")\n",
    "\n",
    "normalizad_word_dict = {}\n",
    "\n",
    "for index, row in normalizad_word.iterrows():\n",
    "    if row[0] not in normalizad_word_dict:\n",
    "        normalizad_word_dict[row[0]] = row[1] \n",
    "\n",
    "def normalized_term(document):\n",
    "    return [normalizad_word_dict[term] if term in normalizad_word_dict else term for term in document]\n",
    "\n",
    "data_berita['deskripsi_normalized'] = data_berita['deskripsi_tokens_WSW'].apply(normalized_term)\n",
    "\n",
    "data_berita['deskripsi_normalized'].head(20)"
   ]
  },
  {
   "cell_type": "markdown",
   "id": "dcde223f",
   "metadata": {},
   "source": [
    "# Stemming "
   ]
  },
  {
   "cell_type": "markdown",
   "id": "923d1d96",
   "metadata": {},
   "source": [
    "Stemming juga merupakan salah satu tahap yang ada di dalam teks pre-processing. Stemming sendiri memiliki fungsi guna mengubah term ke dalam bentuk akar. Stemming bisasny menghilangkan kata imbuhan seperti awalan maupun akhiran."
   ]
  },
  {
   "cell_type": "code",
   "execution_count": 56,
   "id": "0d188265",
   "metadata": {},
   "outputs": [
    {
     "name": "stdout",
     "output_type": "stream",
     "text": [
      "219\n",
      "------------------------\n",
      "screenshot : screenshot\n",
      "macbook : macbook\n",
      "pengguna : guna\n",
      "ekosistem : ekosistem\n",
      "apple : apple\n",
      "tangkapan : tangkap\n",
      "layar : layar\n",
      "pc : pc\n",
      "berbeda : beda\n",
      "restart : restart\n",
      "hp : hp\n",
      "xiaomi : xiaomi\n",
      "tombol : tombol\n",
      "power : power\n",
      "mudah : mudah\n",
      "melakukannya : laku\n",
      "menyembunyikan : sembunyi\n",
      "foto : foto\n",
      "video : video\n",
      "samsung : samsung\n",
      "menyimak : simak\n",
      "ulasan : ulas\n",
      "ponsel : ponsel\n",
      "bingung : bingung\n",
      "file : file\n",
      "galeri : galeri\n",
      "lahir : lahir\n",
      "semangat : semangat\n",
      "mengembalikan : kembali\n",
      "citacita : citacita\n",
      "kemerdekaan : merdeka\n",
      "partai : partai\n",
      "perindo : perindo\n",
      "hadir : hadir\n",
      "membangun : bangun\n",
      "indonesia : indonesia\n",
      "negara : negara\n",
      "bersatu : satu\n",
      "berdaulat : daulat\n",
      "adil : adil\n",
      "makmur : makmur\n",
      "berlandaskan : landas\n",
      "pancasila : pancasila\n",
      "super : super\n",
      "smart : smart\n",
      "tv : tv\n",
      "upaya : upaya\n",
      "opsi : opsi\n",
      "harga : harga\n",
      "kompetitif : kompetitif\n",
      "konsumen : konsumen\n",
      "beralih : alih\n",
      "analog : analog\n",
      "digital : digital\n",
      "keberhasilan : hasil\n",
      "ajang : ajang\n",
      "formula : formula\n",
      "jakarta : jakarta\n",
      "lepas : lepas\n",
      "kenyamanan : nyaman\n",
      "kelancaran : lancar\n",
      "sarana : sarana\n",
      "prasarana : prasarana\n",
      "pendukungtermasuk : pendukungtermasuk\n",
      "pengalaman : alam\n",
      "berkelas : kelas\n",
      "dunia : dunia\n",
      "dihadirkan : hadir\n",
      "indosat : indosat\n",
      "ooredoo : ooredoo\n",
      "hutchison : hutchison\n",
      "ioh : ioh\n",
      "didukung : dukung\n",
      "ericsson : ericsson\n",
      "bone : bone\n",
      "conduction : conduction\n",
      "headphone : headphone\n",
      "diminati : mati\n",
      "jenis : jenis\n",
      "teknologi : teknologi\n",
      "canggih : canggih\n",
      "speaker : speaker\n",
      "driver : driver\n",
      "memproduksi : produksi\n",
      "suara : suara\n",
      "erajaya : erajaya\n",
      "active : active\n",
      "lifestyle : lifestyle\n",
      "mengenalkan : kenal\n",
      "model : model\n",
      "milik : milik\n",
      "shokz : shokz\n",
      "dulunya : dulunya\n",
      "aftershokz : aftershokz\n",
      "jaringan : jaring\n",
      "ritel : ritel\n",
      "group : group\n",
      "whatsapp : whatsapp\n",
      "disembunyikan : sembunyi\n",
      "aplikasi : aplikasi\n",
      "tambahan : tambah\n",
      "google : google\n",
      "mengembangkan : kembang\n",
      "alat : alat\n",
      "luas : luas\n",
      "mendorong : dorong\n",
      "komunikasi : komunikasi\n",
      "tourbox : tourbox\n",
      "neo : neo\n",
      "perangkat : perangkat\n",
      "memiliki : milik\n",
      "fungsi : fungsi\n",
      "spesifik : spesifik\n",
      "membantu : bantu\n",
      "pekerja : kerja\n",
      "kreatif : kreatif\n",
      "bidang : bidang\n",
      "desain : desain\n",
      "grafis : grafis\n",
      "fotografi : fotografi\n",
      "musik : musik\n",
      "multimedia : multimedia\n",
      "mengatasi : atas\n",
      "whastapp : whastapp\n",
      "kena : kena\n",
      "sadap : sadap\n",
      "datadata : datadata\n",
      "terjaga : jaga\n",
      "aman : aman\n",
      "serangan : serang\n",
      "siber : siber\n",
      "marak : marak\n",
      "kode : kode\n",
      "redeem : redeem\n",
      "ff : ff\n",
      "free : free\n",
      "fire : fire\n",
      "selasa : selasa\n",
      "juni : juni\n",
      "menarik : tarik\n",
      "pemain : main\n",
      "item : item\n",
      "gratis : gratis\n",
      "fastboot : fastboot\n",
      "mi : mi\n",
      "fans : fans\n",
      "sewaktuwaktu : sewaktuwaktu\n",
      "mengalami : alami\n",
      "kebingungan : bingung\n",
      "film : film\n",
      "pendek : pendek\n",
      "sediakala : sediakala\n",
      "tren : tren\n",
      "unjuk : unjuk\n",
      "gigi : gigi\n",
      "kemampuan : mampu\n",
      "kamera : kamera\n",
      "smartphone : smartphone\n",
      "sekelas : kelas\n",
      "lebar : lebar\n",
      "dipakai : pakai\n",
      "galaxy : galaxy\n",
      "ultra : ultra\n",
      "memasang : pasang\n",
      "ketiga : tiga\n",
      "perbedaan : beda\n",
      "wa : wa\n",
      "gb : gb\n",
      "resmi : resmi\n",
      "bahayanya : bahaya\n",
      "menambah : tambah\n",
      "informasi : informasi\n",
      "mencegah : cegah\n",
      "bahaya : bahaya\n",
      "menggunakannya : guna\n",
      "kebocoran : bocor\n",
      "data : data\n",
      "perusahaan : usaha\n",
      "induk : induk\n",
      "tiktok : tiktok\n",
      "bytedance : bytedance\n",
      "serius : serius\n",
      "merambah : rambah\n",
      "ruang : ruang\n",
      "virtual : virtual\n",
      "reality : reality\n",
      "vr : vr\n",
      "laporan : lapor\n",
      "protocol : protocol\n",
      "sumber : sumber\n",
      "anonim : anonim\n",
      "proyek : proyek\n",
      "centang : centang\n",
      "pesan : pesan\n",
      "dibaca : baca\n",
      "menjaga : jaga\n",
      "privasi : privasi\n",
      "percakapan : cakap\n",
      "pandemi : pandemi\n",
      "mengubah : ubah\n",
      "pola : pola\n",
      "perilaku : perilaku\n",
      "masyarakat : masyarakat\n",
      "memenuhi : penuh\n",
      "kebutuhan : butuh\n",
      "pokoknya : pokok\n",
      "perpesanan : pesan\n",
      "telegram : telegram\n",
      "dilaporkan : lapor\n",
      "menghadirkan : hadir\n",
      "fitur : fitur\n",
      "terintegrasi : integrasi\n",
      "paywall : paywall\n",
      "langsung : langsung\n",
      "sang : sang\n",
      "pendiri : diri\n",
      "pavel : pavel\n",
      "durov : durov\n",
      "barubaru : barubaru\n",
      "{'screenshot': 'screenshot', 'macbook': 'macbook', 'pengguna': 'guna', 'ekosistem': 'ekosistem', 'apple': 'apple', 'tangkapan': 'tangkap', 'layar': 'layar', 'pc': 'pc', 'berbeda': 'beda', 'restart': 'restart', 'hp': 'hp', 'xiaomi': 'xiaomi', 'tombol': 'tombol', 'power': 'power', 'mudah': 'mudah', 'melakukannya': 'laku', 'menyembunyikan': 'sembunyi', 'foto': 'foto', 'video': 'video', 'samsung': 'samsung', 'menyimak': 'simak', 'ulasan': 'ulas', 'ponsel': 'ponsel', 'bingung': 'bingung', 'file': 'file', 'galeri': 'galeri', 'lahir': 'lahir', 'semangat': 'semangat', 'mengembalikan': 'kembali', 'citacita': 'citacita', 'kemerdekaan': 'merdeka', 'partai': 'partai', 'perindo': 'perindo', 'hadir': 'hadir', 'membangun': 'bangun', 'indonesia': 'indonesia', 'negara': 'negara', 'bersatu': 'satu', 'berdaulat': 'daulat', 'adil': 'adil', 'makmur': 'makmur', 'berlandaskan': 'landas', 'pancasila': 'pancasila', 'super': 'super', 'smart': 'smart', 'tv': 'tv', 'upaya': 'upaya', 'opsi': 'opsi', 'harga': 'harga', 'kompetitif': 'kompetitif', 'konsumen': 'konsumen', 'beralih': 'alih', 'analog': 'analog', 'digital': 'digital', 'keberhasilan': 'hasil', 'ajang': 'ajang', 'formula': 'formula', 'jakarta': 'jakarta', 'lepas': 'lepas', 'kenyamanan': 'nyaman', 'kelancaran': 'lancar', 'sarana': 'sarana', 'prasarana': 'prasarana', 'pendukungtermasuk': 'pendukungtermasuk', 'pengalaman': 'alam', 'berkelas': 'kelas', 'dunia': 'dunia', 'dihadirkan': 'hadir', 'indosat': 'indosat', 'ooredoo': 'ooredoo', 'hutchison': 'hutchison', 'ioh': 'ioh', 'didukung': 'dukung', 'ericsson': 'ericsson', 'bone': 'bone', 'conduction': 'conduction', 'headphone': 'headphone', 'diminati': 'mati', 'jenis': 'jenis', 'teknologi': 'teknologi', 'canggih': 'canggih', 'speaker': 'speaker', 'driver': 'driver', 'memproduksi': 'produksi', 'suara': 'suara', 'erajaya': 'erajaya', 'active': 'active', 'lifestyle': 'lifestyle', 'mengenalkan': 'kenal', 'model': 'model', 'milik': 'milik', 'shokz': 'shokz', 'dulunya': 'dulunya', 'aftershokz': 'aftershokz', 'jaringan': 'jaring', 'ritel': 'ritel', 'group': 'group', 'whatsapp': 'whatsapp', 'disembunyikan': 'sembunyi', 'aplikasi': 'aplikasi', 'tambahan': 'tambah', 'google': 'google', 'mengembangkan': 'kembang', 'alat': 'alat', 'luas': 'luas', 'mendorong': 'dorong', 'komunikasi': 'komunikasi', 'tourbox': 'tourbox', 'neo': 'neo', 'perangkat': 'perangkat', 'memiliki': 'milik', 'fungsi': 'fungsi', 'spesifik': 'spesifik', 'membantu': 'bantu', 'pekerja': 'kerja', 'kreatif': 'kreatif', 'bidang': 'bidang', 'desain': 'desain', 'grafis': 'grafis', 'fotografi': 'fotografi', 'musik': 'musik', 'multimedia': 'multimedia', 'mengatasi': 'atas', 'whastapp': 'whastapp', 'kena': 'kena', 'sadap': 'sadap', 'datadata': 'datadata', 'terjaga': 'jaga', 'aman': 'aman', 'serangan': 'serang', 'siber': 'siber', 'marak': 'marak', 'kode': 'kode', 'redeem': 'redeem', 'ff': 'ff', 'free': 'free', 'fire': 'fire', 'selasa': 'selasa', 'juni': 'juni', 'menarik': 'tarik', 'pemain': 'main', 'item': 'item', 'gratis': 'gratis', 'fastboot': 'fastboot', 'mi': 'mi', 'fans': 'fans', 'sewaktuwaktu': 'sewaktuwaktu', 'mengalami': 'alami', 'kebingungan': 'bingung', 'film': 'film', 'pendek': 'pendek', 'sediakala': 'sediakala', 'tren': 'tren', 'unjuk': 'unjuk', 'gigi': 'gigi', 'kemampuan': 'mampu', 'kamera': 'kamera', 'smartphone': 'smartphone', 'sekelas': 'kelas', 'lebar': 'lebar', 'dipakai': 'pakai', 'galaxy': 'galaxy', 'ultra': 'ultra', 'memasang': 'pasang', 'ketiga': 'tiga', 'perbedaan': 'beda', 'wa': 'wa', 'gb': 'gb', 'resmi': 'resmi', 'bahayanya': 'bahaya', 'menambah': 'tambah', 'informasi': 'informasi', 'mencegah': 'cegah', 'bahaya': 'bahaya', 'menggunakannya': 'guna', 'kebocoran': 'bocor', 'data': 'data', 'perusahaan': 'usaha', 'induk': 'induk', 'tiktok': 'tiktok', 'bytedance': 'bytedance', 'serius': 'serius', 'merambah': 'rambah', 'ruang': 'ruang', 'virtual': 'virtual', 'reality': 'reality', 'vr': 'vr', 'laporan': 'lapor', 'protocol': 'protocol', 'sumber': 'sumber', 'anonim': 'anonim', 'proyek': 'proyek', 'centang': 'centang', 'pesan': 'pesan', 'dibaca': 'baca', 'menjaga': 'jaga', 'privasi': 'privasi', 'percakapan': 'cakap', 'pandemi': 'pandemi', 'mengubah': 'ubah', 'pola': 'pola', 'perilaku': 'perilaku', 'masyarakat': 'masyarakat', 'memenuhi': 'penuh', 'kebutuhan': 'butuh', 'pokoknya': 'pokok', 'perpesanan': 'pesan', 'telegram': 'telegram', 'dilaporkan': 'lapor', 'menghadirkan': 'hadir', 'fitur': 'fitur', 'terintegrasi': 'integrasi', 'paywall': 'paywall', 'langsung': 'langsung', 'sang': 'sang', 'pendiri': 'diri', 'pavel': 'pavel', 'durov': 'durov', 'barubaru': 'barubaru'}\n",
      "------------------------\n"
     ]
    },
    {
     "data": {
      "application/vnd.jupyter.widget-view+json": {
       "model_id": "e311c2effd114f319229dc563798512a",
       "version_major": 2,
       "version_minor": 0
      },
      "text/plain": [
       "Pandas Apply:   0%|          | 0/21 [00:00<?, ?it/s]"
      ]
     },
     "metadata": {},
     "output_type": "display_data"
    },
    {
     "name": "stdout",
     "output_type": "stream",
     "text": [
      "0     [screenshot, macbook, guna, ekosistem, apple, ...\n",
      "1     [restart, hp, xiaomi, tombol, power, mudah, laku]\n",
      "2     [sembunyi, foto, video, hp, samsung, mudah, si...\n",
      "3     [lahir, semangat, kembali, citacita, merdeka, ...\n",
      "4     [super, smart, tv, upaya, samsung, opsi, smart...\n",
      "5     [hasil, ajang, formula, jakarta, lepas, nyaman...\n",
      "6     [bone, conduction, headphone, mati, jenis, hea...\n",
      "7     [erajaya, active, lifestyle, kenal, model, hea...\n",
      "8                [whatsapp, sembunyi, aplikasi, tambah]\n",
      "9     [google, kembang, alat, luas, dorong, komunika...\n",
      "10    [tourbox, neo, perangkat, milik, fungsi, spesi...\n",
      "11    [atas, whastapp, kena, sadap, datadata, jaga, ...\n",
      "12    [kode, redeem, ff, free, fire, selasa, juni, t...\n",
      "13    [atas, hp, xiaomi, fastboot, mi, fans, guna, p...\n",
      "14    [film, pendek, sediakala, tren, unjuk, gigi, m...\n",
      "15    [sembunyi, aplikasi, hp, xiaomi, mudah, pasang...\n",
      "16    [beda, wa, gb, whatsapp, resmi, bahaya, tambah...\n",
      "17    [usaha, induk, tiktok, bytedance, serius, ramb...\n",
      "18    [whatsapp, centang, pesan, baca, jaga, privasi...\n",
      "19    [pandemi, ubah, pola, perilaku, masyarakat, pe...\n",
      "20    [aplikasi, pesan, telegram, lapor, hadir, fitu...\n",
      "Name: deskripsi_tokens_stemmed, dtype: object\n"
     ]
    }
   ],
   "source": [
    "\n",
    "# import Sastrawi package\n",
    "from Sastrawi.Stemmer.StemmerFactory import StemmerFactory\n",
    "import swifter\n",
    "\n",
    "\n",
    "# create stemmer\n",
    "factory = StemmerFactory()\n",
    "stemmer = factory.create_stemmer()\n",
    "\n",
    "# stemmed\n",
    "def stemmed_wrapper(term):\n",
    "    return stemmer.stem(term)\n",
    "\n",
    "term_dict = {}\n",
    "\n",
    "for document in data_berita['deskripsi_normalized']:\n",
    "    for term in document:\n",
    "        if term not in term_dict:\n",
    "            term_dict[term] = ' '\n",
    "            \n",
    "print(len(term_dict))\n",
    "print(\"------------------------\")\n",
    "\n",
    "for term in term_dict:\n",
    "    term_dict[term] = stemmed_wrapper(term)\n",
    "    print(term,\":\" ,term_dict[term])\n",
    "    \n",
    "print(term_dict)\n",
    "print(\"------------------------\")\n",
    "\n",
    "\n",
    "# apply stemmed term to dataframe\n",
    "def get_stemmed_term(document):\n",
    "    return [term_dict[term] for term in document]\n",
    "\n",
    "data_berita['deskripsi_tokens_stemmed'] = data_berita['deskripsi_normalized'].swifter.apply(get_stemmed_term)\n",
    "print(data_berita['deskripsi_tokens_stemmed'])"
   ]
  },
  {
   "cell_type": "markdown",
   "id": "f51b5d53",
   "metadata": {},
   "source": [
    "# Simpan Hasil Pre-Processing ke CSV"
   ]
  },
  {
   "cell_type": "markdown",
   "id": "be3c3bce",
   "metadata": {},
   "source": [
    "Setalah tahapan pre-processing telah dilakukan, maka data dari hasil pre-processing tersebut disimpan ke dalam format .csv\n",
    "Seperti berikut ini "
   ]
  },
  {
   "cell_type": "code",
   "execution_count": 57,
   "id": "e782661c",
   "metadata": {},
   "outputs": [],
   "source": [
    "data_berita.to_csv(\"Text_Preprocessing_Berita1.csv\")"
   ]
  },
  {
   "cell_type": "markdown",
   "id": "63296846",
   "metadata": {},
   "source": [
    "# Modeling Using LSA"
   ]
  },
  {
   "cell_type": "markdown",
   "id": "c3c24db3",
   "metadata": {},
   "source": [
    "Tahap selanjutnya yakni membuat model dengan menggunakan LSA atau Latent Semantic Analysis"
   ]
  },
  {
   "cell_type": "markdown",
   "id": "fc24e070",
   "metadata": {},
   "source": [
    "# Import Library"
   ]
  },
  {
   "cell_type": "markdown",
   "id": "51d1dffa",
   "metadata": {},
   "source": [
    "Dalam tahap modeling menggunakan LSA juga diperlukan library tersendiri gun mendukung proses modeling. Adapun library yang diperlukan yakni numpy, pandas, matplotlib, seaborn, dan nltk. \n",
    "Berikut ini merupakan proses import yang dilakukan"
   ]
  },
  {
   "cell_type": "code",
   "execution_count": 23,
   "id": "469a7364",
   "metadata": {},
   "outputs": [],
   "source": [
    "# data visualisation and manipulation\n",
    "import numpy as np\n",
    "import pandas as pd\n",
    "import matplotlib.pyplot as plt\n",
    "from matplotlib import style\n",
    "import seaborn as sns\n",
    "#configure\n",
    "# sets matplotlib to inline and displays graphs below the corressponding cell.\n",
    "%matplotlib inline  \n",
    "style.use('fivethirtyeight')\n",
    "sns.set(style='whitegrid',color_codes=True)\n",
    "\n",
    "#import nltk\n",
    "import nltk\n",
    "from nltk.corpus import stopwords\n",
    "from nltk.tokenize import word_tokenize,sent_tokenize\n",
    "\n",
    "#preprocessing\n",
    "from nltk.corpus import stopwords  #stopwords\n",
    "from nltk import word_tokenize,sent_tokenize # tokenizing\n",
    "from nltk.stem import PorterStemmer,LancasterStemmer  # using the Porter Stemmer and Lancaster Stemmer and others\n",
    "from nltk.stem.snowball import SnowballStemmer\n",
    "from nltk.stem import WordNetLemmatizer  # lammatizer from WordNet\n",
    "\n",
    "# for named entity recognition (NER)\n",
    "from nltk import ne_chunk\n",
    "\n",
    "# vectorizers for creating the document-term-matrix (DTM)\n",
    "from sklearn.feature_extraction.text import TfidfVectorizer,CountVectorizer\n",
    "\n",
    "#stop-words\n",
    "stop_words=set(nltk.corpus.stopwords.words('english'))"
   ]
  },
  {
   "cell_type": "markdown",
   "id": "3f69567e",
   "metadata": {},
   "source": [
    "Dalam proses import tersebut ada library yang digunakan dalam visualisasi dan manipulasi data diantaranya yakni :\n",
    "1. numpy\n",
    "2. pandas\n",
    "3. matplotlib\n",
    "4. seaborn\n",
    "\n",
    "Serta library yang digunakan dalam pre-processing yakni :\n",
    "1. nltk"
   ]
  },
  {
   "cell_type": "markdown",
   "id": "331fb572",
   "metadata": {},
   "source": [
    "# Load Dataset"
   ]
  },
  {
   "cell_type": "markdown",
   "id": "fd415a40",
   "metadata": {},
   "source": [
    "Dalam proses modeling juga dilakukan pembuatan dataframe disini data framenya dinamai seperti yang sebelumnya yakni \"data_berita\". Dan data yang digunakan merupakan data hasil preprocessing dengan nama file \"Text_Preprocessing_Berita.csv\""
   ]
  },
  {
   "cell_type": "code",
   "execution_count": 24,
   "id": "81ab7f76",
   "metadata": {},
   "outputs": [],
   "source": [
    "data_berita = pd.read_csv('berita3.csv')"
   ]
  },
  {
   "cell_type": "markdown",
   "id": "5e5a749e",
   "metadata": {},
   "source": [
    "Lalu, tampilkan datasetnya dengan .head() data terata akan ditampilkan"
   ]
  },
  {
   "cell_type": "code",
   "execution_count": 25,
   "id": "7e557701",
   "metadata": {},
   "outputs": [
    {
     "data": {
      "text/html": [
       "<div>\n",
       "<style scoped>\n",
       "    .dataframe tbody tr th:only-of-type {\n",
       "        vertical-align: middle;\n",
       "    }\n",
       "\n",
       "    .dataframe tbody tr th {\n",
       "        vertical-align: top;\n",
       "    }\n",
       "\n",
       "    .dataframe thead th {\n",
       "        text-align: right;\n",
       "    }\n",
       "</style>\n",
       "<table border=\"1\" class=\"dataframe\">\n",
       "  <thead>\n",
       "    <tr style=\"text-align: right;\">\n",
       "      <th></th>\n",
       "      <th>judul</th>\n",
       "      <th>tanggal</th>\n",
       "      <th>kategori</th>\n",
       "      <th>deskripsi</th>\n",
       "    </tr>\n",
       "  </thead>\n",
       "  <tbody>\n",
       "    <tr>\n",
       "      <th>0</th>\n",
       "      <td>2 Cara Screenshot di MacBook, Ternyata Mudah d...</td>\n",
       "      <td>Selasa, 14 Juni 2022 - 18:16 WIB</td>\n",
       "      <td>ELEKTRONIK</td>\n",
       "      <td>Cara screenshot di MacBook penting diketahui o...</td>\n",
       "    </tr>\n",
       "    <tr>\n",
       "      <th>1</th>\n",
       "      <td>Cara Restart HP Xiaomi Tanpa Tombol Power</td>\n",
       "      <td>Selasa, 14 Juni 2022 - 18:00 WIB</td>\n",
       "      <td>GADGET</td>\n",
       "      <td>Cara restart HP Xiaomi tanpa tombol power bisa...</td>\n",
       "    </tr>\n",
       "    <tr>\n",
       "      <th>2</th>\n",
       "      <td>Begini Cara Menyembunyikan Foto dan Video di H...</td>\n",
       "      <td>Selasa, 14 Juni 2022 - 17:45 WIB</td>\n",
       "      <td>GADGET</td>\n",
       "      <td>Sedikitnya ada dua cara menyembunyikan foto da...</td>\n",
       "    </tr>\n",
       "    <tr>\n",
       "      <th>3</th>\n",
       "      <td>Partai Perindo: Mars Partai Perindo dengan QR ...</td>\n",
       "      <td>NaN</td>\n",
       "      <td>sponsored</td>\n",
       "      <td>Lahir dari semangat untuk mengembalikan cita-c...</td>\n",
       "    </tr>\n",
       "    <tr>\n",
       "      <th>4</th>\n",
       "      <td>Migrasi ke TV Digital, Samsung Tawarkan Super ...</td>\n",
       "      <td>Selasa, 14 Juni 2022 - 17:00 WIB</td>\n",
       "      <td>ELEKTRONIK</td>\n",
       "      <td>Super Smart TV+ jadi upaya Samsung untuk membe...</td>\n",
       "    </tr>\n",
       "  </tbody>\n",
       "</table>\n",
       "</div>"
      ],
      "text/plain": [
       "                                               judul  \\\n",
       "0  2 Cara Screenshot di MacBook, Ternyata Mudah d...   \n",
       "1          Cara Restart HP Xiaomi Tanpa Tombol Power   \n",
       "2  Begini Cara Menyembunyikan Foto dan Video di H...   \n",
       "3  Partai Perindo: Mars Partai Perindo dengan QR ...   \n",
       "4  Migrasi ke TV Digital, Samsung Tawarkan Super ...   \n",
       "\n",
       "                            tanggal    kategori  \\\n",
       "0  Selasa, 14 Juni 2022 - 18:16 WIB  ELEKTRONIK   \n",
       "1  Selasa, 14 Juni 2022 - 18:00 WIB      GADGET   \n",
       "2  Selasa, 14 Juni 2022 - 17:45 WIB      GADGET   \n",
       "3                               NaN   sponsored   \n",
       "4  Selasa, 14 Juni 2022 - 17:00 WIB  ELEKTRONIK   \n",
       "\n",
       "                                           deskripsi  \n",
       "0  Cara screenshot di MacBook penting diketahui o...  \n",
       "1  Cara restart HP Xiaomi tanpa tombol power bisa...  \n",
       "2  Sedikitnya ada dua cara menyembunyikan foto da...  \n",
       "3  Lahir dari semangat untuk mengembalikan cita-c...  \n",
       "4  Super Smart TV+ jadi upaya Samsung untuk membe...  "
      ]
     },
     "execution_count": 25,
     "metadata": {},
     "output_type": "execute_result"
    }
   ],
   "source": [
    "data_berita.head()"
   ]
  },
  {
   "cell_type": "markdown",
   "id": "8b100f18",
   "metadata": {},
   "source": [
    "Sebelum beralih pada tahap selanjutnya, ada beberapa atribut yang perlu dihapus yakni judul, tanggal, dan kategori. Dikarenakan atribut yang digunakan yakni atribut deskripsi."
   ]
  },
  {
   "cell_type": "code",
   "execution_count": 26,
   "id": "e7fe0764",
   "metadata": {
    "scrolled": true
   },
   "outputs": [],
   "source": [
    "# drop judul, tanggal, dan kategori\n",
    "data_berita.drop(['judul','tanggal','kategori'],axis=1,inplace=True)"
   ]
  },
  {
   "cell_type": "markdown",
   "id": "134845ee",
   "metadata": {},
   "source": [
    "Tampilkan data yang telah di hapus atributnya dan menyisakan deskripsi"
   ]
  },
  {
   "cell_type": "code",
   "execution_count": 27,
   "id": "efedf3e0",
   "metadata": {},
   "outputs": [
    {
     "data": {
      "text/html": [
       "<div>\n",
       "<style scoped>\n",
       "    .dataframe tbody tr th:only-of-type {\n",
       "        vertical-align: middle;\n",
       "    }\n",
       "\n",
       "    .dataframe tbody tr th {\n",
       "        vertical-align: top;\n",
       "    }\n",
       "\n",
       "    .dataframe thead th {\n",
       "        text-align: right;\n",
       "    }\n",
       "</style>\n",
       "<table border=\"1\" class=\"dataframe\">\n",
       "  <thead>\n",
       "    <tr style=\"text-align: right;\">\n",
       "      <th></th>\n",
       "      <th>deskripsi</th>\n",
       "    </tr>\n",
       "  </thead>\n",
       "  <tbody>\n",
       "    <tr>\n",
       "      <th>0</th>\n",
       "      <td>Cara screenshot di MacBook penting diketahui o...</td>\n",
       "    </tr>\n",
       "    <tr>\n",
       "      <th>1</th>\n",
       "      <td>Cara restart HP Xiaomi tanpa tombol power bisa...</td>\n",
       "    </tr>\n",
       "    <tr>\n",
       "      <th>2</th>\n",
       "      <td>Sedikitnya ada dua cara menyembunyikan foto da...</td>\n",
       "    </tr>\n",
       "    <tr>\n",
       "      <th>3</th>\n",
       "      <td>Lahir dari semangat untuk mengembalikan cita-c...</td>\n",
       "    </tr>\n",
       "    <tr>\n",
       "      <th>4</th>\n",
       "      <td>Super Smart TV+ jadi upaya Samsung untuk membe...</td>\n",
       "    </tr>\n",
       "  </tbody>\n",
       "</table>\n",
       "</div>"
      ],
      "text/plain": [
       "                                           deskripsi\n",
       "0  Cara screenshot di MacBook penting diketahui o...\n",
       "1  Cara restart HP Xiaomi tanpa tombol power bisa...\n",
       "2  Sedikitnya ada dua cara menyembunyikan foto da...\n",
       "3  Lahir dari semangat untuk mengembalikan cita-c...\n",
       "4  Super Smart TV+ jadi upaya Samsung untuk membe..."
      ]
     },
     "execution_count": 27,
     "metadata": {},
     "output_type": "execute_result"
    }
   ],
   "source": [
    "data_berita.head()"
   ]
  },
  {
   "cell_type": "markdown",
   "id": "c6423931",
   "metadata": {},
   "source": [
    "# Data Cleaning & Pre-Processing"
   ]
  },
  {
   "cell_type": "markdown",
   "id": "607547eb",
   "metadata": {},
   "source": [
    "Pada tahap selnajutnya yakni melakukan cleaning dan juga tahap pre-processing kembali. Menggunakan lemmatizer danjuga stemmer. Terdapat juga kata-kata yang tidak digubakan bersama dan juga kata-kata yang panjanya kurang dari 3 karakter yang berguna untuk mengurangi beberapa kata yang tidak cocok."
   ]
  },
  {
   "cell_type": "code",
   "execution_count": 28,
   "id": "027556d4",
   "metadata": {},
   "outputs": [],
   "source": [
    "def clean_text(headline):\n",
    "  le=WordNetLemmatizer()\n",
    "  word_tokens=word_tokenize(headline)\n",
    "  tokens=[le.lemmatize(w) for w in word_tokens if w not in stop_words and len(w)>3]\n",
    "  cleaned_text=\" \".join(tokens)\n",
    "  return cleaned_text"
   ]
  },
  {
   "cell_type": "code",
   "execution_count": 29,
   "id": "150f1d92",
   "metadata": {},
   "outputs": [],
   "source": [
    "# time taking\n",
    "data_berita['deskripsi_cleaned_text']=data_berita['deskripsi'].apply(clean_text)"
   ]
  },
  {
   "cell_type": "code",
   "execution_count": 30,
   "id": "441aa9f6",
   "metadata": {},
   "outputs": [
    {
     "data": {
      "text/html": [
       "<div>\n",
       "<style scoped>\n",
       "    .dataframe tbody tr th:only-of-type {\n",
       "        vertical-align: middle;\n",
       "    }\n",
       "\n",
       "    .dataframe tbody tr th {\n",
       "        vertical-align: top;\n",
       "    }\n",
       "\n",
       "    .dataframe thead th {\n",
       "        text-align: right;\n",
       "    }\n",
       "</style>\n",
       "<table border=\"1\" class=\"dataframe\">\n",
       "  <thead>\n",
       "    <tr style=\"text-align: right;\">\n",
       "      <th></th>\n",
       "      <th>deskripsi</th>\n",
       "      <th>deskripsi_cleaned_text</th>\n",
       "    </tr>\n",
       "  </thead>\n",
       "  <tbody>\n",
       "    <tr>\n",
       "      <th>0</th>\n",
       "      <td>Cara screenshot di MacBook penting diketahui o...</td>\n",
       "      <td>Cara screenshot MacBook penting diketahui oleh...</td>\n",
       "    </tr>\n",
       "    <tr>\n",
       "      <th>1</th>\n",
       "      <td>Cara restart HP Xiaomi tanpa tombol power bisa...</td>\n",
       "      <td>Cara restart Xiaomi tanpa tombol power bisa di...</td>\n",
       "    </tr>\n",
       "    <tr>\n",
       "      <th>2</th>\n",
       "      <td>Sedikitnya ada dua cara menyembunyikan foto da...</td>\n",
       "      <td>Sedikitnya cara menyembunyikan foto video Sams...</td>\n",
       "    </tr>\n",
       "    <tr>\n",
       "      <th>3</th>\n",
       "      <td>Lahir dari semangat untuk mengembalikan cita-c...</td>\n",
       "      <td>Lahir dari semangat untuk mengembalikan cita-c...</td>\n",
       "    </tr>\n",
       "    <tr>\n",
       "      <th>4</th>\n",
       "      <td>Super Smart TV+ jadi upaya Samsung untuk membe...</td>\n",
       "      <td>Super Smart jadi upaya Samsung untuk memberika...</td>\n",
       "    </tr>\n",
       "  </tbody>\n",
       "</table>\n",
       "</div>"
      ],
      "text/plain": [
       "                                           deskripsi  \\\n",
       "0  Cara screenshot di MacBook penting diketahui o...   \n",
       "1  Cara restart HP Xiaomi tanpa tombol power bisa...   \n",
       "2  Sedikitnya ada dua cara menyembunyikan foto da...   \n",
       "3  Lahir dari semangat untuk mengembalikan cita-c...   \n",
       "4  Super Smart TV+ jadi upaya Samsung untuk membe...   \n",
       "\n",
       "                              deskripsi_cleaned_text  \n",
       "0  Cara screenshot MacBook penting diketahui oleh...  \n",
       "1  Cara restart Xiaomi tanpa tombol power bisa di...  \n",
       "2  Sedikitnya cara menyembunyikan foto video Sams...  \n",
       "3  Lahir dari semangat untuk mengembalikan cita-c...  \n",
       "4  Super Smart jadi upaya Samsung untuk memberika...  "
      ]
     },
     "execution_count": 30,
     "metadata": {},
     "output_type": "execute_result"
    }
   ],
   "source": [
    "data_berita.head()"
   ]
  },
  {
   "cell_type": "markdown",
   "id": "44d0bcc3",
   "metadata": {},
   "source": [
    "Dapat dilihat perbedaan setelah dilakukan stopwords dan juga kata yang lebih pendek. Juga ada beberapa kata yang telah diestimasi seperti \"calls\"-->\"call\""
   ]
  },
  {
   "cell_type": "markdown",
   "id": "4d6c60bd",
   "metadata": {},
   "source": [
    "Lalu hapus kolom yang belum dilakuak pre-processing, disini adalah kolom deskripsi"
   ]
  },
  {
   "cell_type": "code",
   "execution_count": 31,
   "id": "d1baabfb",
   "metadata": {},
   "outputs": [],
   "source": [
    "data_berita.drop(['deskripsi'],axis=1,inplace=True)"
   ]
  },
  {
   "cell_type": "code",
   "execution_count": 32,
   "id": "3b4e3823",
   "metadata": {},
   "outputs": [
    {
     "data": {
      "text/html": [
       "<div>\n",
       "<style scoped>\n",
       "    .dataframe tbody tr th:only-of-type {\n",
       "        vertical-align: middle;\n",
       "    }\n",
       "\n",
       "    .dataframe tbody tr th {\n",
       "        vertical-align: top;\n",
       "    }\n",
       "\n",
       "    .dataframe thead th {\n",
       "        text-align: right;\n",
       "    }\n",
       "</style>\n",
       "<table border=\"1\" class=\"dataframe\">\n",
       "  <thead>\n",
       "    <tr style=\"text-align: right;\">\n",
       "      <th></th>\n",
       "      <th>deskripsi_cleaned_text</th>\n",
       "    </tr>\n",
       "  </thead>\n",
       "  <tbody>\n",
       "    <tr>\n",
       "      <th>0</th>\n",
       "      <td>Cara screenshot MacBook penting diketahui oleh...</td>\n",
       "    </tr>\n",
       "    <tr>\n",
       "      <th>1</th>\n",
       "      <td>Cara restart Xiaomi tanpa tombol power bisa di...</td>\n",
       "    </tr>\n",
       "    <tr>\n",
       "      <th>2</th>\n",
       "      <td>Sedikitnya cara menyembunyikan foto video Sams...</td>\n",
       "    </tr>\n",
       "    <tr>\n",
       "      <th>3</th>\n",
       "      <td>Lahir dari semangat untuk mengembalikan cita-c...</td>\n",
       "    </tr>\n",
       "    <tr>\n",
       "      <th>4</th>\n",
       "      <td>Super Smart jadi upaya Samsung untuk memberika...</td>\n",
       "    </tr>\n",
       "  </tbody>\n",
       "</table>\n",
       "</div>"
      ],
      "text/plain": [
       "                              deskripsi_cleaned_text\n",
       "0  Cara screenshot MacBook penting diketahui oleh...\n",
       "1  Cara restart Xiaomi tanpa tombol power bisa di...\n",
       "2  Sedikitnya cara menyembunyikan foto video Sams...\n",
       "3  Lahir dari semangat untuk mengembalikan cita-c...\n",
       "4  Super Smart jadi upaya Samsung untuk memberika..."
      ]
     },
     "execution_count": 32,
     "metadata": {},
     "output_type": "execute_result"
    }
   ],
   "source": [
    "data_berita.head()"
   ]
  },
  {
   "cell_type": "markdown",
   "id": "b56305f7",
   "metadata": {},
   "source": [
    "Dapat dilihat bahwa ada beberapa judul berita tertentu"
   ]
  },
  {
   "cell_type": "code",
   "execution_count": 33,
   "id": "015eaf33",
   "metadata": {},
   "outputs": [
    {
     "data": {
      "text/plain": [
       "'Cara screenshot MacBook penting diketahui oleh pengguna ekosistem Apple Sebab melakukan tangkapan layar MacBook sangat berbeda'"
      ]
     },
     "execution_count": 33,
     "metadata": {},
     "output_type": "execute_result"
    }
   ],
   "source": [
    "data_berita['deskripsi_cleaned_text'][0]"
   ]
  },
  {
   "cell_type": "markdown",
   "id": "e15f7b15",
   "metadata": {},
   "source": [
    "# Extracting Feature dan Membuat Dokumen Term-Matrik (DTM)"
   ]
  },
  {
   "cell_type": "markdown",
   "id": "ad98b259",
   "metadata": {},
   "source": [
    "DTM memiliki nilai TF-Idf\n",
    "Tentukan pula parameter dari vectore TF-Idf"
   ]
  },
  {
   "cell_type": "markdown",
   "id": "f9e2ef96",
   "metadata": {},
   "source": [
    "Adapun beberapa poin penting yang perlu diperhatoakn :\n",
    "1. LSA pada umumnua diimplementasikan dengan menggunakan nilai TF-Idff dan tidak dengan Count Vectorizer\n",
    "2. max_feature bergantubg pada daya komputasi dan juga pada eval. Metrik merupakan skor yang koheren untuk menentukan model\n",
    "3. Nilai default untuk min_df dan max_df dapat bekerja dengan baik\n",
    "4. Dapat mencoba nilai yang berbeda-beda dalam ngram_range"
   ]
  },
  {
   "cell_type": "code",
   "execution_count": 34,
   "id": "22bffe9c",
   "metadata": {},
   "outputs": [],
   "source": [
    "vect =TfidfVectorizer(stop_words=stop_words,max_features=1000) # to play with. min_df,max_df,max_features etc..."
   ]
  },
  {
   "cell_type": "code",
   "execution_count": 35,
   "id": "0f2d906b",
   "metadata": {},
   "outputs": [],
   "source": [
    "vect_text=vect.fit_transform(data_berita['deskripsi_cleaned_text'])"
   ]
  },
  {
   "cell_type": "markdown",
   "id": "3c31e4c6",
   "metadata": {},
   "source": [
    "Dalam hasilnya, dapat dilihat kata yang sering muncul dan kata yang jarang muncul dalam berita yang ada dalam idf. Apabila memiliki nilai yang kecil maka katanya lebih umum digunakan dalam berita utama"
   ]
  },
  {
   "cell_type": "code",
   "execution_count": 36,
   "id": "1e050544",
   "metadata": {},
   "outputs": [
    {
     "name": "stdout",
     "output_type": "stream",
     "text": [
      "(21, 293)\n",
      "  (0, 29)\t0.25652970041454104\n",
      "  (0, 226)\t0.25652970041454104\n",
      "  (0, 130)\t0.22591844422185814\n",
      "  (0, 261)\t0.25652970041454104\n",
      "  (0, 141)\t0.25652970041454104\n",
      "  (0, 230)\t0.20419941231069755\n",
      "  (0, 14)\t0.25652970041454104\n",
      "  (0, 70)\t0.25652970041454104\n",
      "  (0, 195)\t0.18735282235652043\n",
      "  (0, 180)\t0.18735282235652043\n",
      "  (0, 58)\t0.20419941231069755\n",
      "  (0, 196)\t0.22591844422185814\n",
      "  (0, 136)\t0.5130594008290821\n",
      "  (0, 229)\t0.25652970041454104\n",
      "  (0, 42)\t0.14297689992533186\n",
      "  (1, 142)\t0.29823387068177165\n",
      "  (1, 282)\t0.17655856875858844\n",
      "  (1, 24)\t0.2626461262372782\n",
      "  (1, 20)\t0.2626461262372782\n",
      "  (1, 176)\t0.23739621972018005\n",
      "  (1, 46)\t0.2626461262372782\n",
      "  (1, 51)\t0.1486078283032135\n",
      "  (1, 59)\t0.23739621972018005\n",
      "  (1, 38)\t0.18827864276991654\n",
      "  (1, 210)\t0.29823387068177165\n",
      "  :\t:\n",
      "  (19, 271)\t0.2348025657767521\n",
      "  (19, 292)\t0.12602626858737664\n",
      "  (19, 48)\t0.157841295998919\n",
      "  (19, 47)\t0.19472037153206817\n",
      "  (20, 69)\t0.2129532253689214\n",
      "  (20, 187)\t0.2129532253689214\n",
      "  (20, 192)\t0.2129532253689214\n",
      "  (20, 225)\t0.2129532253689214\n",
      "  (20, 128)\t0.2129532253689214\n",
      "  (20, 64)\t0.2129532253689214\n",
      "  (20, 188)\t0.2129532253689214\n",
      "  (20, 268)\t0.2129532253689214\n",
      "  (20, 78)\t0.2129532253689214\n",
      "  (20, 165)\t0.2129532253689214\n",
      "  (20, 236)\t0.2129532253689214\n",
      "  (20, 60)\t0.2129532253689214\n",
      "  (20, 265)\t0.2129532253689214\n",
      "  (20, 203)\t0.2129532253689214\n",
      "  (20, 13)\t0.1695122373734172\n",
      "  (20, 23)\t0.37508375279454703\n",
      "  (20, 7)\t0.3390244747468344\n",
      "  (20, 292)\t0.10065990040626513\n",
      "  (20, 24)\t0.18754187639727352\n",
      "  (20, 51)\t0.1061130859479351\n",
      "  (20, 180)\t0.15552736286799976\n"
     ]
    }
   ],
   "source": [
    "print(vect_text.shape)\n",
    "print(vect_text)"
   ]
  },
  {
   "cell_type": "code",
   "execution_count": 37,
   "id": "79dc5c66",
   "metadata": {},
   "outputs": [],
   "source": [
    "idf=vect.idf_"
   ]
  },
  {
   "cell_type": "code",
   "execution_count": 38,
   "id": "863c4b29",
   "metadata": {},
   "outputs": [
    {
     "name": "stdout",
     "output_type": "stream",
     "text": [
      "yang yakni\n",
      "3.3978952727983707\n",
      "3.3978952727983707\n"
     ]
    },
    {
     "name": "stderr",
     "output_type": "stream",
     "text": [
      "c:\\users\\asus\\appdata\\local\\programs\\python\\python38\\lib\\site-packages\\sklearn\\utils\\deprecation.py:87: FutureWarning: Function get_feature_names is deprecated; get_feature_names is deprecated in 1.0 and will be removed in 1.2. Please use get_feature_names_out instead.\n",
      "  warnings.warn(msg, category=FutureWarning)\n"
     ]
    }
   ],
   "source": [
    "dd=dict(zip(vect.get_feature_names(), idf))\n",
    "l=sorted(dd, key=(dd).get)\n",
    "# print(l)\n",
    "print(l[0],l[-1])\n",
    "print(dd['adil'])\n",
    "print(dd['alat'])  # police is most common and forecast is least common among the news headlines."
   ]
  },
  {
   "cell_type": "markdown",
   "id": "7c85ef8c",
   "metadata": {},
   "source": [
    "Oleh karena itu, berdasarkan pada nilai idf yang ada 'adil' adalah kata yang paling sering muncul sedangkan 'alat' paling jarang muncul dalam berita"
   ]
  },
  {
   "cell_type": "markdown",
   "id": "00a59ca9",
   "metadata": {},
   "source": [
    "# Topik Modeling"
   ]
  },
  {
   "cell_type": "markdown",
   "id": "eaa9c99b",
   "metadata": {},
   "source": [
    "# Latent Semantic Analysis (LSA)"
   ]
  },
  {
   "cell_type": "markdown",
   "id": "d34d8416",
   "metadata": {},
   "source": [
    "Pada pendekatan pertama digunakan LSA. LSA pada dasarnya adalah dekomposisi dari nilai tunggal."
   ]
  },
  {
   "cell_type": "markdown",
   "id": "8f6e2b26",
   "metadata": {},
   "source": [
    "SVD akan menguraikan DTM menajdi tiga matriks = S=U.(sigma).(V.T). Nilai matrik U menunjukkan matriks dari dokumen topik sementara (V) adalah matriks dari term."
   ]
  },
  {
   "cell_type": "markdown",
   "id": "b8f701e9",
   "metadata": {},
   "source": [
    "Pada setiap baris dari matriks U (matriks istilah dari dokumen) merupakan representasi vektor yang ada dalam dokumen yang sesuai. Panjang vektor ini ialah jumlah topik yang diinginkan. Representasi dari vektor untuk suku yang ada dalam data dapat ditemui dalam matriks V."
   ]
  },
  {
   "cell_type": "markdown",
   "id": "346677d3",
   "metadata": {},
   "source": [
    "Jadi, SVD memberikan nilai vektor pada setiap dokumen dan juga istilah dalam data. Panjang dari setiap vektor adalah k. Vektor ini digunakan untuk menentukan kata dan dokumen serupa dalam metode kesamaan kosinus. "
   ]
  },
  {
   "cell_type": "markdown",
   "id": "d2ccb515",
   "metadata": {},
   "source": [
    "Dapat digunakan fungsi truncastedSVD untuk mengimplementasikan LSA. Parameter n_components merupakan jumlah topik yang akan diekstrak. Model tersebut nantinya akan di fit dan ditransformasikan pada hasil yang diberikan oleh vectorizer."
   ]
  },
  {
   "cell_type": "markdown",
   "id": "0ee73b7e",
   "metadata": {},
   "source": [
    "Tahap terakhir yakni LSA dan LSI (I digunakan untuk mengindekskan) ialah sama dan yang terakhir digunakan dalam konteks pencarian sebuah informasi."
   ]
  },
  {
   "cell_type": "code",
   "execution_count": 39,
   "id": "ef15a2a0",
   "metadata": {},
   "outputs": [],
   "source": [
    "from sklearn.decomposition import TruncatedSVD\n",
    "lsa_model = TruncatedSVD(n_components=10, algorithm='randomized', n_iter=10, random_state=42)\n",
    "\n",
    "lsa_top=lsa_model.fit_transform(vect_text)"
   ]
  },
  {
   "cell_type": "code",
   "execution_count": 40,
   "id": "a211998e",
   "metadata": {},
   "outputs": [
    {
     "name": "stdout",
     "output_type": "stream",
     "text": [
      "[[ 2.10699803e-01  5.34624584e-02  2.83396527e-01  5.12595613e-01\n",
      "  -1.91189345e-01  1.65885143e-01  1.63051811e-01 -2.03344205e-02\n",
      "   3.04600871e-02  1.40393022e-02]\n",
      " [ 6.18262627e-01 -3.86909966e-01 -1.14812597e-01 -6.91515083e-02\n",
      "  -6.19759216e-02 -1.26055395e-01  5.85003684e-03 -1.81021864e-01\n",
      "  -9.33148943e-02  8.90341746e-02]\n",
      " [ 3.86653232e-01 -1.82974374e-02  7.52872250e-02  8.96631888e-02\n",
      "   5.07154582e-01 -3.95396287e-02  2.82805143e-01  5.63874718e-02\n",
      "  -4.52159354e-02 -4.08533759e-02]\n",
      " [ 1.20118320e-01  2.15673497e-01 -1.07022237e-02  7.50466969e-02\n",
      "   9.80260930e-02 -3.95453948e-01 -4.60695275e-01 -4.21109788e-01\n",
      "   7.35326805e-02  2.71170096e-01]\n",
      " [ 2.18108141e-01  3.05121433e-01 -1.64428086e-02 -1.88840767e-02\n",
      "   1.27544610e-01 -4.60256979e-01 -1.55947452e-01  3.12063737e-01\n",
      "  -3.02213555e-02 -1.85917513e-01]\n",
      " [ 1.30215411e-01  3.56522846e-01 -2.20743196e-01  6.72304704e-02\n",
      "  -2.64000811e-01 -1.42257714e-02  2.63026983e-01 -1.19550648e-02\n",
      "  -4.04178926e-01 -2.18833408e-02]\n",
      " [ 2.42883720e-01  2.51896965e-01  5.75334173e-01 -3.63509285e-01\n",
      "  -7.23341502e-02  5.24799264e-02  2.44704542e-02 -1.28189677e-01\n",
      "   2.34803062e-02 -1.24358744e-02]\n",
      " [ 1.03747320e-01  1.63870279e-01  4.93456700e-01 -5.12096628e-01\n",
      "  -2.72600712e-02  1.46962410e-01  6.18458505e-02 -2.39728412e-01\n",
      "  -1.09893847e-01  4.59587245e-02]\n",
      " [ 4.99070831e-01 -1.50266332e-01 -1.39707095e-01 -2.66406854e-01\n",
      "  -1.24790442e-01  9.61469202e-02 -5.65977573e-02  1.11174237e-01\n",
      "   1.28616923e-01 -3.19243716e-02]\n",
      " [ 1.64167285e-01  4.67061751e-01 -3.14625362e-01 -3.57052506e-02\n",
      "  -2.60187663e-01  5.50499963e-03  8.22824560e-02 -1.92821285e-01\n",
      "   2.10364798e-02  7.36765325e-02]\n",
      " [ 7.72914611e-02  1.62071161e-01  5.45406965e-03 -3.22814066e-02\n",
      "   2.63798916e-01 -8.83444102e-02  5.26152136e-01  3.60509973e-02\n",
      "   4.60091500e-01 -2.34523605e-02]\n",
      " [ 2.30916985e-01  6.55559677e-02  1.33521620e-01  7.24122877e-02\n",
      "   9.92980608e-02  2.69307306e-01 -3.94232822e-01  2.53306849e-01\n",
      "  -2.05507970e-01  3.37279566e-02]\n",
      " [ 1.80897251e-01  9.53651706e-02 -2.83082288e-01 -1.27290467e-01\n",
      "  -2.17814488e-01  2.53875124e-01 -5.59349909e-02 -8.74567298e-02\n",
      "   5.73750776e-01 -2.18214619e-02]\n",
      " [ 3.30306295e-01 -5.11244880e-02  3.11974371e-01  4.87155765e-01\n",
      "  -1.55028789e-01  1.22631137e-01  1.55798932e-01 -9.76774692e-02\n",
      "  -6.74458855e-02  7.84967881e-02]\n",
      " [ 2.04079913e-01  3.32691626e-01 -9.16754636e-03  1.52637183e-01\n",
      "   4.62821960e-01 -1.26963677e-01 -1.20005388e-02 -1.72538848e-01\n",
      "   2.07553789e-02  1.41208468e-02]\n",
      " [ 6.15878774e-01 -4.33219421e-01 -1.87368410e-01 -8.61754624e-02\n",
      "  -2.61452497e-02 -1.61202375e-01  9.12893854e-02 -1.57084904e-01\n",
      "  -1.20307452e-01  3.35719121e-02]\n",
      " [ 3.55204933e-01  1.99726419e-01  1.54504618e-01  3.00188142e-01\n",
      "  -2.11135574e-01  1.03870085e-03 -2.79225899e-01  1.26608721e-01\n",
      "   3.19904601e-01 -2.61482049e-02]\n",
      " [ 8.35280376e-02  1.21418896e-01 -3.98498697e-02 -1.20470139e-01\n",
      "  -1.92485480e-02 -1.10309042e-02  1.20266601e-01  4.56488342e-01\n",
      "  -1.70752923e-02  8.37892311e-01]\n",
      " [ 3.16463004e-01  3.92437593e-02 -1.22391860e-01 -6.44966591e-02\n",
      "   3.63907068e-01  4.85422677e-01 -2.25388539e-01  1.96516020e-01\n",
      "  -4.05557517e-04 -1.24559055e-01]\n",
      " [ 1.55443224e-01  4.11573806e-01 -3.62157710e-01 -2.89716770e-02\n",
      "   4.25560670e-02  2.88432922e-01  7.10050630e-02 -1.37547549e-01\n",
      "  -2.77709063e-01 -9.28959740e-02]\n",
      " [ 2.53523556e-01  1.17072350e-01  9.41515688e-02 -1.38725915e-01\n",
      "  -2.90119358e-01 -3.28844580e-01  5.85264977e-02  4.16157444e-01\n",
      "  -4.52226165e-02 -3.45715727e-01]]\n",
      "(21, 10)\n"
     ]
    }
   ],
   "source": [
    "print(lsa_top)\n",
    "print(lsa_top.shape)  # (no_of_doc*no_of_topics)"
   ]
  },
  {
   "cell_type": "code",
   "execution_count": 41,
   "id": "0858fb18",
   "metadata": {},
   "outputs": [
    {
     "name": "stdout",
     "output_type": "stream",
     "text": [
      "Document 0 :\n",
      "Topic  0  :  21.06998031394748\n",
      "Topic  1  :  5.346245840132403\n",
      "Topic  2  :  28.33965272636506\n",
      "Topic  3  :  51.25956133091666\n",
      "Topic  4  :  -19.11893452494782\n",
      "Topic  5  :  16.588514282560123\n",
      "Topic  6  :  16.305181067595655\n",
      "Topic  7  :  -2.0334420506509554\n",
      "Topic  8  :  3.0460087052115394\n",
      "Topic  9  :  1.4039302213746903\n"
     ]
    }
   ],
   "source": [
    "l=lsa_top[0]\n",
    "print(\"Document 0 :\")\n",
    "for i,topic in enumerate(l):\n",
    "  print(\"Topic \",i,\" : \",topic*100)"
   ]
  },
  {
   "cell_type": "markdown",
   "id": "9598821b",
   "metadata": {},
   "source": [
    "Hampir sama dengan dokumen lainnya, dapat dilakukan proses seperti di bawah ini. Akan tetapi perlu diperhatikan bahwa dalam setiap nilai tidak menambah 1 itu bukan sebuah kemungkinan topik yang ada dalam dokumen."
   ]
  },
  {
   "cell_type": "code",
   "execution_count": 42,
   "id": "d6545839",
   "metadata": {},
   "outputs": [
    {
     "name": "stdout",
     "output_type": "stream",
     "text": [
      "(10, 293)\n",
      "[[ 0.02165553  0.01245345  0.04674307 ...  0.20422563  0.00897004\n",
      "   0.16009187]\n",
      " [ 0.01668653  0.02873355  0.09650686 ... -0.15371955  0.02749292\n",
      "   0.27366561]\n",
      " [-0.05262584  0.09197863  0.08345164 ...  0.03269052  0.00098415\n",
      "  -0.16760304]\n",
      " ...\n",
      " [-0.01982246 -0.0545807  -0.04328618 ... -0.10855327  0.00793512\n",
      "   0.06017365]\n",
      " [ 0.1342044  -0.02592615  0.09087478 ... -0.07231335  0.10434601\n",
      "   0.0451118 ]\n",
      " [-0.00515272  0.01062991 -0.00394647 ...  0.05712062 -0.00534378\n",
      "   0.02703359]]\n"
     ]
    }
   ],
   "source": [
    "print(lsa_model.components_.shape) # (no_of_topics*no_of_words)\n",
    "print(lsa_model.components_)"
   ]
  },
  {
   "cell_type": "markdown",
   "id": "c032e77a",
   "metadata": {},
   "source": [
    "Sehingga, didapatkan sebuah list dari kata-kata yang penting dan memiliki makna dari setiap 10 topic yang ditampilkan. Sederhananya dibawah ini ditampilkan 10 kata dalam setiap topic."
   ]
  },
  {
   "cell_type": "code",
   "execution_count": 43,
   "id": "351a2379",
   "metadata": {},
   "outputs": [
    {
     "name": "stdout",
     "output_type": "stream",
     "text": [
      "Topic 0: \n",
      "cara bisa aplikasi dengan dilakukan xiaomi untuk mudah bahkan cukup \n",
      "\n",
      "Topic 1: \n",
      "yang untuk telah lebih dunia termasuk dari smart headphone film \n",
      "\n",
      "Topic 2: \n",
      "headphone erajaya bone conduction teknologi sebab atau tidak baru macbook \n",
      "\n",
      "Topic 3: \n",
      "macbook diketahui pengguna fastboot penting oleh mengalami saja layar xiaomi \n",
      "\n",
      "Topic 4: \n",
      "samsung video dalam foto film menyembunyikan sedikitnya membuat ponsel adalah \n",
      "\n",
      "Topic 5: \n",
      "sudah anda whatsapp begitu centang dibaca menjaga percakapan pesan privasi \n",
      "\n",
      "Topic 6: \n",
      "video menyembunyikan bidang desain fotografi fungsi grafis hingga khususnya kreatif \n",
      "\n",
      "Topic 7: \n",
      "akan dengan smart data baru anonim bytedance dekat induk laporan \n",
      "\n",
      "Topic 8: \n",
      "bisa 2022 banyak digunakan fire free gratis item juni karena \n",
      "\n",
      "Topic 9: \n",
      "anonim bytedance dekat induk laporan makin menurut merambah perusahaan protocol \n",
      "\n"
     ]
    }
   ],
   "source": [
    "# most important words for each topic\n",
    "vocab = vect.get_feature_names()\n",
    "\n",
    "for i, comp in enumerate(lsa_model.components_):\n",
    "    vocab_comp = zip(vocab, comp)\n",
    "    sorted_words = sorted(vocab_comp, key= lambda x:x[1], reverse=True)[:10]\n",
    "    print(\"Topic \"+str(i)+\": \")\n",
    "    for t in sorted_words:\n",
    "        print(t[0],end=\" \")\n",
    "    print(\"\\n\")"
   ]
  }
 ],
 "metadata": {
  "kernelspec": {
   "display_name": "Python 3 (ipykernel)",
   "language": "python",
   "name": "python3"
  },
  "language_info": {
   "codemirror_mode": {
    "name": "ipython",
    "version": 3
   },
   "file_extension": ".py",
   "mimetype": "text/x-python",
   "name": "python",
   "nbconvert_exporter": "python",
   "pygments_lexer": "ipython3",
   "version": "3.8.2"
  }
 },
 "nbformat": 4,
 "nbformat_minor": 5
}